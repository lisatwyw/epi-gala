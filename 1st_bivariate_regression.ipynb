{
  "nbformat": 4,
  "nbformat_minor": 0,
  "metadata": {
    "colab": {
      "provenance": [],
      "toc_visible": true,
      "authorship_tag": "ABX9TyPzhHFUxsryy1S6F6I5YqJF",
      "include_colab_link": true
    },
    "kernelspec": {
      "name": "ir",
      "display_name": "R"
    },
    "language_info": {
      "name": "R"
    }
  },
  "cells": [
    {
      "cell_type": "markdown",
      "metadata": {
        "id": "view-in-github",
        "colab_type": "text"
      },
      "source": [
        "<a href=\"https://colab.research.google.com/github/lisatwyw/epi-galla.github.io/blob/main/1st_bivariate_regression.ipynb\" target=\"_parent\"><img src=\"https://colab.research.google.com/assets/colab-badge.svg\" alt=\"Open In Colab\"/></a>"
      ]
    },
    {
      "cell_type": "markdown",
      "source": [
        "\n",
        "\n",
        "# Part 1: Demo\n",
        "\n"
      ],
      "metadata": {
        "id": "ywZ6x6nfG3Sc"
      }
    },
    {
      "cell_type": "markdown",
      "source": [
        "# 1) Constructing data matrix\n",
        "\n",
        "\n"
      ],
      "metadata": {
        "id": "c0T9L9d1_g0A"
      }
    },
    {
      "cell_type": "code",
      "source": [
        "(weight_height <-c(1,\t182.9,\t\t78.5,\n",
        "2,\t172.7,\t\t60.8,\n",
        "3,\t175.3,\t\t68.0,\n",
        "4,\t172.7,\t\t65.8,\n",
        "5,\t160.0,\t\t52.2,\n",
        "6,\t165.1,\t\t54.4,\t\n",
        "7,\t172.7,\t\t60.3,\n",
        "8,\t162.6,\t\t52.2)\t)\n",
        "\n",
        "tmp <-matrix( weight_height, 3) \n",
        "\n",
        "# c concatenate\n",
        "# t transpose \n",
        "\n",
        "weight_height<-t(tmp)\n",
        "\n",
        "(colnames(weight_height) <- c('id', 'height','weight'))\n",
        "\n",
        "weight_height <- data.frame( weight_height)\n"
      ],
      "metadata": {
        "colab": {
          "base_uri": "https://localhost:8080/",
          "height": 52
        },
        "id": "SN1FKa6cYKQn",
        "outputId": "f1a8d91e-210d-4652-c3d7-37c65e0199ec"
      },
      "execution_count": null,
      "outputs": [
        {
          "output_type": "display_data",
          "data": {
            "text/html": [
              "<style>\n",
              ".list-inline {list-style: none; margin:0; padding: 0}\n",
              ".list-inline>li {display: inline-block}\n",
              ".list-inline>li:not(:last-child)::after {content: \"\\00b7\"; padding: 0 .5ex}\n",
              "</style>\n",
              "<ol class=list-inline><li>1</li><li>182.9</li><li>78.5</li><li>2</li><li>172.7</li><li>60.8</li><li>3</li><li>175.3</li><li>68</li><li>4</li><li>172.7</li><li>65.8</li><li>5</li><li>160</li><li>52.2</li><li>6</li><li>165.1</li><li>54.4</li><li>7</li><li>172.7</li><li>60.3</li><li>8</li><li>162.6</li><li>52.2</li></ol>\n"
            ],
            "text/markdown": "1. 1\n2. 182.9\n3. 78.5\n4. 2\n5. 172.7\n6. 60.8\n7. 3\n8. 175.3\n9. 68\n10. 4\n11. 172.7\n12. 65.8\n13. 5\n14. 160\n15. 52.2\n16. 6\n17. 165.1\n18. 54.4\n19. 7\n20. 172.7\n21. 60.3\n22. 8\n23. 162.6\n24. 52.2\n\n\n",
            "text/latex": "\\begin{enumerate*}\n\\item 1\n\\item 182.9\n\\item 78.5\n\\item 2\n\\item 172.7\n\\item 60.8\n\\item 3\n\\item 175.3\n\\item 68\n\\item 4\n\\item 172.7\n\\item 65.8\n\\item 5\n\\item 160\n\\item 52.2\n\\item 6\n\\item 165.1\n\\item 54.4\n\\item 7\n\\item 172.7\n\\item 60.3\n\\item 8\n\\item 162.6\n\\item 52.2\n\\end{enumerate*}\n",
            "text/plain": [
              " [1]   1.0 182.9  78.5   2.0 172.7  60.8   3.0 175.3  68.0   4.0 172.7  65.8\n",
              "[13]   5.0 160.0  52.2   6.0 165.1  54.4   7.0 172.7  60.3   8.0 162.6  52.2"
            ]
          },
          "metadata": {}
        },
        {
          "output_type": "display_data",
          "data": {
            "text/html": [
              "<style>\n",
              ".list-inline {list-style: none; margin:0; padding: 0}\n",
              ".list-inline>li {display: inline-block}\n",
              ".list-inline>li:not(:last-child)::after {content: \"\\00b7\"; padding: 0 .5ex}\n",
              "</style>\n",
              "<ol class=list-inline><li>'id'</li><li>'height'</li><li>'weight'</li></ol>\n"
            ],
            "text/markdown": "1. 'id'\n2. 'height'\n3. 'weight'\n\n\n",
            "text/latex": "\\begin{enumerate*}\n\\item 'id'\n\\item 'height'\n\\item 'weight'\n\\end{enumerate*}\n",
            "text/plain": [
              "[1] \"id\"     \"height\" \"weight\""
            ]
          },
          "metadata": {}
        }
      ]
    },
    {
      "cell_type": "code",
      "source": [
        "weight_height"
      ],
      "metadata": {
        "colab": {
          "base_uri": "https://localhost:8080/",
          "height": 349
        },
        "id": "GKd-HXnWaaZz",
        "outputId": "333f9cbe-b988-4a57-80ab-e76c17f72b90"
      },
      "execution_count": null,
      "outputs": [
        {
          "output_type": "display_data",
          "data": {
            "text/html": [
              "<table class=\"dataframe\">\n",
              "<caption>A data.frame: 8 × 3</caption>\n",
              "<thead>\n",
              "\t<tr><th scope=col>id</th><th scope=col>height</th><th scope=col>weight</th></tr>\n",
              "\t<tr><th scope=col>&lt;dbl&gt;</th><th scope=col>&lt;dbl&gt;</th><th scope=col>&lt;dbl&gt;</th></tr>\n",
              "</thead>\n",
              "<tbody>\n",
              "\t<tr><td>1</td><td>182.9</td><td>78.5</td></tr>\n",
              "\t<tr><td>2</td><td>172.7</td><td>60.8</td></tr>\n",
              "\t<tr><td>3</td><td>175.3</td><td>68.0</td></tr>\n",
              "\t<tr><td>4</td><td>172.7</td><td>65.8</td></tr>\n",
              "\t<tr><td>5</td><td>160.0</td><td>52.2</td></tr>\n",
              "\t<tr><td>6</td><td>165.1</td><td>54.4</td></tr>\n",
              "\t<tr><td>7</td><td>172.7</td><td>60.3</td></tr>\n",
              "\t<tr><td>8</td><td>162.6</td><td>52.2</td></tr>\n",
              "</tbody>\n",
              "</table>\n"
            ],
            "text/markdown": "\nA data.frame: 8 × 3\n\n| id &lt;dbl&gt; | height &lt;dbl&gt; | weight &lt;dbl&gt; |\n|---|---|---|\n| 1 | 182.9 | 78.5 |\n| 2 | 172.7 | 60.8 |\n| 3 | 175.3 | 68.0 |\n| 4 | 172.7 | 65.8 |\n| 5 | 160.0 | 52.2 |\n| 6 | 165.1 | 54.4 |\n| 7 | 172.7 | 60.3 |\n| 8 | 162.6 | 52.2 |\n\n",
            "text/latex": "A data.frame: 8 × 3\n\\begin{tabular}{lll}\n id & height & weight\\\\\n <dbl> & <dbl> & <dbl>\\\\\n\\hline\n\t 1 & 182.9 & 78.5\\\\\n\t 2 & 172.7 & 60.8\\\\\n\t 3 & 175.3 & 68.0\\\\\n\t 4 & 172.7 & 65.8\\\\\n\t 5 & 160.0 & 52.2\\\\\n\t 6 & 165.1 & 54.4\\\\\n\t 7 & 172.7 & 60.3\\\\\n\t 8 & 162.6 & 52.2\\\\\n\\end{tabular}\n",
            "text/plain": [
              "  id height weight\n",
              "1 1  182.9  78.5  \n",
              "2 2  172.7  60.8  \n",
              "3 3  175.3  68.0  \n",
              "4 4  172.7  65.8  \n",
              "5 5  160.0  52.2  \n",
              "6 6  165.1  54.4  \n",
              "7 7  172.7  60.3  \n",
              "8 8  162.6  52.2  "
            ]
          },
          "metadata": {}
        }
      ]
    },
    {
      "cell_type": "code",
      "execution_count": null,
      "metadata": {
        "colab": {
          "base_uri": "https://localhost:8080/",
          "height": 128
        },
        "id": "ruQcQo569pT9",
        "outputId": "1be275f3-5ece-4f6a-bf5f-3a89eb7576e3"
      },
      "outputs": [
        {
          "output_type": "display_data",
          "data": {
            "text/html": [
              "<table class=\"dataframe\">\n",
              "<caption>A matrix: 3 × 8 of type dbl</caption>\n",
              "<tbody>\n",
              "\t<tr><td>  1.0</td><td>  2.0</td><td>  3.0</td><td>  4.0</td><td>  5.0</td><td>  6.0</td><td>  7.0</td><td>  8.0</td></tr>\n",
              "\t<tr><td>182.9</td><td>172.7</td><td>175.3</td><td>172.7</td><td>160.0</td><td>165.1</td><td>172.7</td><td>162.6</td></tr>\n",
              "\t<tr><td> 78.5</td><td> 60.8</td><td> 68.0</td><td> 65.8</td><td> 52.2</td><td> 54.4</td><td> 60.3</td><td> 52.2</td></tr>\n",
              "</tbody>\n",
              "</table>\n"
            ],
            "text/markdown": "\nA matrix: 3 × 8 of type dbl\n\n|   1.0 |   2.0 |   3.0 |   4.0 |   5.0 |   6.0 |   7.0 |   8.0 |\n| 182.9 | 172.7 | 175.3 | 172.7 | 160.0 | 165.1 | 172.7 | 162.6 |\n|  78.5 |  60.8 |  68.0 |  65.8 |  52.2 |  54.4 |  60.3 |  52.2 |\n\n",
            "text/latex": "A matrix: 3 × 8 of type dbl\n\\begin{tabular}{llllllll}\n\t   1.0 &   2.0 &   3.0 &   4.0 &   5.0 &   6.0 &   7.0 &   8.0\\\\\n\t 182.9 & 172.7 & 175.3 & 172.7 & 160.0 & 165.1 & 172.7 & 162.6\\\\\n\t  78.5 &  60.8 &  68.0 &  65.8 &  52.2 &  54.4 &  60.3 &  52.2\\\\\n\\end{tabular}\n",
            "text/plain": [
              "     [,1]  [,2]  [,3]  [,4]  [,5]  [,6]  [,7]  [,8] \n",
              "[1,]   1.0   2.0   3.0   4.0   5.0   6.0   7.0   8.0\n",
              "[2,] 182.9 172.7 175.3 172.7 160.0 165.1 172.7 162.6\n",
              "[3,]  78.5  60.8  68.0  65.8  52.2  54.4  60.3  52.2"
            ]
          },
          "metadata": {}
        }
      ],
      "source": [
        "ht_wt_data<-c(1, 182.9,\t\t78.5,\n",
        "2,\t172.7,\t\t60.8,\n",
        "3,\t175.3,\t\t68.0,\n",
        "4,\t172.7,\t\t65.8,\n",
        "5,\t160.0,\t\t52.2,\n",
        "6,\t165.1,\t\t54.4,\t\n",
        "7,\t172.7,\t\t60.3,\n",
        "8,\t162.6,\t\t52.2)\t\n",
        "\n",
        "ht_wt_data<-matrix(ht_wt_data, 3) \n",
        "ht_wt_data\n"
      ]
    },
    {
      "cell_type": "code",
      "source": [
        "# to transpose, use the \"t\" function \n",
        "\n",
        "ht_wt_data<-t( ht_wt_data )\n",
        "ht_wt_data "
      ],
      "metadata": {
        "colab": {
          "base_uri": "https://localhost:8080/",
          "height": 303
        },
        "id": "vzyFeMmb-2eq",
        "outputId": "b840197d-7307-41dd-911b-d2fc8a9bbb8e"
      },
      "execution_count": null,
      "outputs": [
        {
          "output_type": "display_data",
          "data": {
            "text/html": [
              "<table class=\"dataframe\">\n",
              "<caption>A matrix: 8 × 3 of type dbl</caption>\n",
              "<tbody>\n",
              "\t<tr><td>1</td><td>182.9</td><td>78.5</td></tr>\n",
              "\t<tr><td>2</td><td>172.7</td><td>60.8</td></tr>\n",
              "\t<tr><td>3</td><td>175.3</td><td>68.0</td></tr>\n",
              "\t<tr><td>4</td><td>172.7</td><td>65.8</td></tr>\n",
              "\t<tr><td>5</td><td>160.0</td><td>52.2</td></tr>\n",
              "\t<tr><td>6</td><td>165.1</td><td>54.4</td></tr>\n",
              "\t<tr><td>7</td><td>172.7</td><td>60.3</td></tr>\n",
              "\t<tr><td>8</td><td>162.6</td><td>52.2</td></tr>\n",
              "</tbody>\n",
              "</table>\n"
            ],
            "text/markdown": "\nA matrix: 8 × 3 of type dbl\n\n| 1 | 182.9 | 78.5 |\n| 2 | 172.7 | 60.8 |\n| 3 | 175.3 | 68.0 |\n| 4 | 172.7 | 65.8 |\n| 5 | 160.0 | 52.2 |\n| 6 | 165.1 | 54.4 |\n| 7 | 172.7 | 60.3 |\n| 8 | 162.6 | 52.2 |\n\n",
            "text/latex": "A matrix: 8 × 3 of type dbl\n\\begin{tabular}{lll}\n\t 1 & 182.9 & 78.5\\\\\n\t 2 & 172.7 & 60.8\\\\\n\t 3 & 175.3 & 68.0\\\\\n\t 4 & 172.7 & 65.8\\\\\n\t 5 & 160.0 & 52.2\\\\\n\t 6 & 165.1 & 54.4\\\\\n\t 7 & 172.7 & 60.3\\\\\n\t 8 & 162.6 & 52.2\\\\\n\\end{tabular}\n",
            "text/plain": [
              "     [,1] [,2]  [,3]\n",
              "[1,] 1    182.9 78.5\n",
              "[2,] 2    172.7 60.8\n",
              "[3,] 3    175.3 68.0\n",
              "[4,] 4    172.7 65.8\n",
              "[5,] 5    160.0 52.2\n",
              "[6,] 6    165.1 54.4\n",
              "[7,] 7    172.7 60.3\n",
              "[8,] 8    162.6 52.2"
            ]
          },
          "metadata": {}
        }
      ]
    },
    {
      "cell_type": "markdown",
      "source": [
        "Give values to the headers of our data matrix"
      ],
      "metadata": {
        "id": "Ksgqjxxa_2SK"
      }
    },
    {
      "cell_type": "code",
      "source": [
        "colnames( ht_wt_data ) <- c(\"sample_id\", \"height_cm\", \"weight_kg\")\n",
        "ht_wt_data\n"
      ],
      "metadata": {
        "colab": {
          "base_uri": "https://localhost:8080/",
          "height": 318
        },
        "id": "hpGVmPrz_BC-",
        "outputId": "2cabbb8d-4855-4e58-f059-4b41f25a6f60"
      },
      "execution_count": null,
      "outputs": [
        {
          "output_type": "display_data",
          "data": {
            "text/html": [
              "<table class=\"dataframe\">\n",
              "<caption>A matrix: 8 × 3 of type dbl</caption>\n",
              "<thead>\n",
              "\t<tr><th scope=col>sample_id</th><th scope=col>height_cm</th><th scope=col>weight_kg</th></tr>\n",
              "</thead>\n",
              "<tbody>\n",
              "\t<tr><td>1</td><td>182.9</td><td>78.5</td></tr>\n",
              "\t<tr><td>2</td><td>172.7</td><td>60.8</td></tr>\n",
              "\t<tr><td>3</td><td>175.3</td><td>68.0</td></tr>\n",
              "\t<tr><td>4</td><td>172.7</td><td>65.8</td></tr>\n",
              "\t<tr><td>5</td><td>160.0</td><td>52.2</td></tr>\n",
              "\t<tr><td>6</td><td>165.1</td><td>54.4</td></tr>\n",
              "\t<tr><td>7</td><td>172.7</td><td>60.3</td></tr>\n",
              "\t<tr><td>8</td><td>162.6</td><td>52.2</td></tr>\n",
              "</tbody>\n",
              "</table>\n"
            ],
            "text/markdown": "\nA matrix: 8 × 3 of type dbl\n\n| sample_id | height_cm | weight_kg |\n|---|---|---|\n| 1 | 182.9 | 78.5 |\n| 2 | 172.7 | 60.8 |\n| 3 | 175.3 | 68.0 |\n| 4 | 172.7 | 65.8 |\n| 5 | 160.0 | 52.2 |\n| 6 | 165.1 | 54.4 |\n| 7 | 172.7 | 60.3 |\n| 8 | 162.6 | 52.2 |\n\n",
            "text/latex": "A matrix: 8 × 3 of type dbl\n\\begin{tabular}{lll}\n sample\\_id & height\\_cm & weight\\_kg\\\\\n\\hline\n\t 1 & 182.9 & 78.5\\\\\n\t 2 & 172.7 & 60.8\\\\\n\t 3 & 175.3 & 68.0\\\\\n\t 4 & 172.7 & 65.8\\\\\n\t 5 & 160.0 & 52.2\\\\\n\t 6 & 165.1 & 54.4\\\\\n\t 7 & 172.7 & 60.3\\\\\n\t 8 & 162.6 & 52.2\\\\\n\\end{tabular}\n",
            "text/plain": [
              "     sample_id height_cm weight_kg\n",
              "[1,] 1         182.9     78.5     \n",
              "[2,] 2         172.7     60.8     \n",
              "[3,] 3         175.3     68.0     \n",
              "[4,] 4         172.7     65.8     \n",
              "[5,] 5         160.0     52.2     \n",
              "[6,] 6         165.1     54.4     \n",
              "[7,] 7         172.7     60.3     \n",
              "[8,] 8         162.6     52.2     "
            ]
          },
          "metadata": {}
        }
      ]
    },
    {
      "cell_type": "markdown",
      "source": [
        "# 2) Create a dataframe"
      ],
      "metadata": {
        "id": "seIfmu35HGVJ"
      }
    },
    {
      "cell_type": "code",
      "source": [
        "rownames( ht_wt_data ) <- 1:8\n",
        "ht_wt_data<-data.frame( ht_wt_data  )\n",
        "ht_wt_data"
      ],
      "metadata": {
        "colab": {
          "base_uri": "https://localhost:8080/",
          "height": 349
        },
        "id": "OvZfEa7m_tsk",
        "outputId": "e2380a1a-669a-4787-ee2d-56beb4f831f1"
      },
      "execution_count": null,
      "outputs": [
        {
          "output_type": "display_data",
          "data": {
            "text/html": [
              "<table class=\"dataframe\">\n",
              "<caption>A data.frame: 8 × 3</caption>\n",
              "<thead>\n",
              "\t<tr><th></th><th scope=col>sample_id</th><th scope=col>height_cm</th><th scope=col>weight_kg</th></tr>\n",
              "\t<tr><th></th><th scope=col>&lt;dbl&gt;</th><th scope=col>&lt;dbl&gt;</th><th scope=col>&lt;dbl&gt;</th></tr>\n",
              "</thead>\n",
              "<tbody>\n",
              "\t<tr><th scope=row>1</th><td>1</td><td>182.9</td><td>78.5</td></tr>\n",
              "\t<tr><th scope=row>2</th><td>2</td><td>172.7</td><td>60.8</td></tr>\n",
              "\t<tr><th scope=row>3</th><td>3</td><td>175.3</td><td>68.0</td></tr>\n",
              "\t<tr><th scope=row>4</th><td>4</td><td>172.7</td><td>65.8</td></tr>\n",
              "\t<tr><th scope=row>5</th><td>5</td><td>160.0</td><td>52.2</td></tr>\n",
              "\t<tr><th scope=row>6</th><td>6</td><td>165.1</td><td>54.4</td></tr>\n",
              "\t<tr><th scope=row>7</th><td>7</td><td>172.7</td><td>60.3</td></tr>\n",
              "\t<tr><th scope=row>8</th><td>8</td><td>162.6</td><td>52.2</td></tr>\n",
              "</tbody>\n",
              "</table>\n"
            ],
            "text/markdown": "\nA data.frame: 8 × 3\n\n| <!--/--> | sample_id &lt;dbl&gt; | height_cm &lt;dbl&gt; | weight_kg &lt;dbl&gt; |\n|---|---|---|---|\n| 1 | 1 | 182.9 | 78.5 |\n| 2 | 2 | 172.7 | 60.8 |\n| 3 | 3 | 175.3 | 68.0 |\n| 4 | 4 | 172.7 | 65.8 |\n| 5 | 5 | 160.0 | 52.2 |\n| 6 | 6 | 165.1 | 54.4 |\n| 7 | 7 | 172.7 | 60.3 |\n| 8 | 8 | 162.6 | 52.2 |\n\n",
            "text/latex": "A data.frame: 8 × 3\n\\begin{tabular}{r|lll}\n  & sample\\_id & height\\_cm & weight\\_kg\\\\\n  & <dbl> & <dbl> & <dbl>\\\\\n\\hline\n\t1 & 1 & 182.9 & 78.5\\\\\n\t2 & 2 & 172.7 & 60.8\\\\\n\t3 & 3 & 175.3 & 68.0\\\\\n\t4 & 4 & 172.7 & 65.8\\\\\n\t5 & 5 & 160.0 & 52.2\\\\\n\t6 & 6 & 165.1 & 54.4\\\\\n\t7 & 7 & 172.7 & 60.3\\\\\n\t8 & 8 & 162.6 & 52.2\\\\\n\\end{tabular}\n",
            "text/plain": [
              "  sample_id height_cm weight_kg\n",
              "1 1         182.9     78.5     \n",
              "2 2         172.7     60.8     \n",
              "3 3         175.3     68.0     \n",
              "4 4         172.7     65.8     \n",
              "5 5         160.0     52.2     \n",
              "6 6         165.1     54.4     \n",
              "7 7         172.7     60.3     \n",
              "8 8         162.6     52.2     "
            ]
          },
          "metadata": {}
        }
      ]
    },
    {
      "cell_type": "code",
      "source": [
        "ht_wt_data$height_cm\n",
        " "
      ],
      "metadata": {
        "colab": {
          "base_uri": "https://localhost:8080/",
          "height": 34
        },
        "id": "_tZH_bwX-L-f",
        "outputId": "a266c6f1-ec82-4f2e-896b-2130672c1d57"
      },
      "execution_count": null,
      "outputs": [
        {
          "output_type": "display_data",
          "data": {
            "text/html": [
              "<style>\n",
              ".list-inline {list-style: none; margin:0; padding: 0}\n",
              ".list-inline>li {display: inline-block}\n",
              ".list-inline>li:not(:last-child)::after {content: \"\\00b7\"; padding: 0 .5ex}\n",
              "</style>\n",
              "<ol class=list-inline><li>182.9</li><li>172.7</li><li>175.3</li><li>172.7</li><li>160</li><li>165.1</li><li>172.7</li><li>162.6</li></ol>\n"
            ],
            "text/markdown": "1. 182.9\n2. 172.7\n3. 175.3\n4. 172.7\n5. 160\n6. 165.1\n7. 172.7\n8. 162.6\n\n\n",
            "text/latex": "\\begin{enumerate*}\n\\item 182.9\n\\item 172.7\n\\item 175.3\n\\item 172.7\n\\item 160\n\\item 165.1\n\\item 172.7\n\\item 162.6\n\\end{enumerate*}\n",
            "text/plain": [
              "[1] 182.9 172.7 175.3 172.7 160.0 165.1 172.7 162.6"
            ]
          },
          "metadata": {}
        }
      ]
    },
    {
      "cell_type": "code",
      "source": [
        "h <- ht_wt_data$height_cm\n",
        "w <- ht_wt_data$weight_kg\n",
        "\n",
        "x_mean <- sum( h )/ length(h)\n",
        "x_mean"
      ],
      "metadata": {
        "colab": {
          "base_uri": "https://localhost:8080/",
          "height": 34
        },
        "id": "a8MdFPhpJtV_",
        "outputId": "26487d10-2496-49e4-a531-bf7ada465284"
      },
      "execution_count": null,
      "outputs": [
        {
          "output_type": "display_data",
          "data": {
            "text/html": [
              "170.5"
            ],
            "text/markdown": "170.5",
            "text/latex": "170.5",
            "text/plain": [
              "[1] 170.5"
            ]
          },
          "metadata": {}
        }
      ]
    },
    {
      "cell_type": "code",
      "source": [
        "mean( h )"
      ],
      "metadata": {
        "colab": {
          "base_uri": "https://localhost:8080/",
          "height": 34
        },
        "id": "a9q1yqbfJtd2",
        "outputId": "8aca5d3b-4eea-4152-9482-d3aed83c41a3"
      },
      "execution_count": null,
      "outputs": [
        {
          "output_type": "display_data",
          "data": {
            "text/html": [
              "170.5"
            ],
            "text/markdown": "170.5",
            "text/latex": "170.5",
            "text/plain": [
              "[1] 170.5"
            ]
          },
          "metadata": {}
        }
      ]
    },
    {
      "cell_type": "code",
      "source": [
        "y_mean<-mean( w ) \n",
        "y_mean "
      ],
      "metadata": {
        "colab": {
          "base_uri": "https://localhost:8080/",
          "height": 34
        },
        "id": "NcNI8OlaJ-Nh",
        "outputId": "b8e1e746-3137-4756-bbdf-bb01b8c4238e"
      },
      "execution_count": null,
      "outputs": [
        {
          "output_type": "display_data",
          "data": {
            "text/html": [
              "61.525"
            ],
            "text/markdown": "61.525",
            "text/latex": "61.525",
            "text/plain": [
              "[1] 61.525"
            ]
          },
          "metadata": {}
        }
      ]
    },
    {
      "cell_type": "markdown",
      "source": [
        "# 3) Calculate ```b``` via a closed-form solution"
      ],
      "metadata": {
        "id": "3HuipSFqGgBh"
      }
    },
    {
      "cell_type": "code",
      "source": [
        "numerator<- sum( (h - x_mean)* (w-y_mean ) )\n",
        "numerator"
      ],
      "metadata": {
        "colab": {
          "base_uri": "https://localhost:8080/",
          "height": 34
        },
        "id": "XckoQYOAKFAl",
        "outputId": "b3099040-895e-4d43-8c92-52865d2014b0"
      },
      "execution_count": null,
      "outputs": [
        {
          "output_type": "display_data",
          "data": {
            "text/html": [
              "456.74"
            ],
            "text/markdown": "456.74",
            "text/latex": "456.74",
            "text/plain": [
              "[1] 456.74"
            ]
          },
          "metadata": {}
        }
      ]
    },
    {
      "cell_type": "code",
      "source": [
        "denominator <-sum( (h- x_mean )**2 )\n",
        "denominator\n"
      ],
      "metadata": {
        "colab": {
          "base_uri": "https://localhost:8080/",
          "height": 34
        },
        "id": "JJbWF3FYKHZK",
        "outputId": "528d5ef9-3c24-4613-d885-f80d8a645bb4"
      },
      "execution_count": null,
      "outputs": [
        {
          "output_type": "display_data",
          "data": {
            "text/html": [
              "393.14"
            ],
            "text/markdown": "393.14",
            "text/latex": "393.14",
            "text/plain": [
              "[1] 393.14"
            ]
          },
          "metadata": {}
        }
      ]
    },
    {
      "cell_type": "code",
      "source": [
        "b <- numerator/ denominator\n",
        "b"
      ],
      "metadata": {
        "colab": {
          "base_uri": "https://localhost:8080/",
          "height": 34
        },
        "id": "TzhjQ0xVKjH5",
        "outputId": "2d1ccae3-596c-49f0-bb1a-5d6f04e9fcf9"
      },
      "execution_count": null,
      "outputs": [
        {
          "output_type": "display_data",
          "data": {
            "text/html": [
              "1.16177443150023"
            ],
            "text/markdown": "1.16177443150023",
            "text/latex": "1.16177443150023",
            "text/plain": [
              "[1] 1.161774"
            ]
          },
          "metadata": {}
        }
      ]
    },
    {
      "cell_type": "code",
      "source": [
        "b0 <- y_mean - b*x_mean \n",
        "b0"
      ],
      "metadata": {
        "colab": {
          "base_uri": "https://localhost:8080/",
          "height": 34
        },
        "id": "zmaSRTUBKyfe",
        "outputId": "780af432-06e8-4bc1-c338-1ec7e0d77b33"
      },
      "execution_count": null,
      "outputs": [
        {
          "output_type": "display_data",
          "data": {
            "text/html": [
              "-136.557540570789"
            ],
            "text/markdown": "-136.557540570789",
            "text/latex": "-136.557540570789",
            "text/plain": [
              "[1] -136.5575"
            ]
          },
          "metadata": {}
        }
      ]
    },
    {
      "cell_type": "markdown",
      "source": [
        "# 4) Data fit via linear model ```lm()```"
      ],
      "metadata": {
        "id": "67GnjoMwG8i7"
      }
    },
    {
      "cell_type": "code",
      "source": [
        "# regress/predict Y on X:\n",
        "\n",
        "y_on_x_mdl <- lm(ht_wt_data$weight_kg ~ ht_wt_data$height_cm )\n",
        "y_on_x_mdl \n"
      ],
      "metadata": {
        "colab": {
          "base_uri": "https://localhost:8080/",
          "height": 139
        },
        "id": "GXXbG-1vAZJ1",
        "outputId": "a3da264a-d255-4165-b6c7-fb075c96d0c4"
      },
      "execution_count": null,
      "outputs": [
        {
          "output_type": "display_data",
          "data": {
            "text/plain": [
              "\n",
              "Call:\n",
              "lm(formula = ht_wt_data$weight_kg ~ ht_wt_data$height_cm)\n",
              "\n",
              "Coefficients:\n",
              "         (Intercept)  ht_wt_data$height_cm  \n",
              "            -136.558                 1.162  \n"
            ]
          },
          "metadata": {}
        }
      ]
    },
    {
      "cell_type": "code",
      "source": [
        "# regress/predict X on Y\n",
        "x_on_y_mdl <- lm(ht_wt_data$height_cm ~ ht_wt_data$weight_kg  )\n",
        "x_on_y_mdl  "
      ],
      "metadata": {
        "colab": {
          "base_uri": "https://localhost:8080/",
          "height": 139
        },
        "id": "lAtCmS2oHQCY",
        "outputId": "8c52074f-f3e7-410e-e800-b1b5cda5e46e"
      },
      "execution_count": null,
      "outputs": [
        {
          "output_type": "display_data",
          "data": {
            "text/plain": [
              "\n",
              "Call:\n",
              "lm(formula = ht_wt_data$height_cm ~ ht_wt_data$weight_kg)\n",
              "\n",
              "Coefficients:\n",
              "         (Intercept)  ht_wt_data$weight_kg  \n",
              "            121.6335                0.7943  \n"
            ]
          },
          "metadata": {}
        }
      ]
    },
    {
      "cell_type": "code",
      "source": [
        "typeof(x_on_y_mdl)  "
      ],
      "metadata": {
        "colab": {
          "base_uri": "https://localhost:8080/",
          "height": 34
        },
        "id": "0BYcaUm_LkLB",
        "outputId": "a903328f-7a81-4a87-807b-54274275beaa"
      },
      "execution_count": null,
      "outputs": [
        {
          "output_type": "display_data",
          "data": {
            "text/html": [
              "'list'"
            ],
            "text/markdown": "'list'",
            "text/latex": "'list'",
            "text/plain": [
              "[1] \"list\""
            ]
          },
          "metadata": {}
        }
      ]
    },
    {
      "cell_type": "code",
      "source": [
        "typeof( x_on_y_mdl[1] )"
      ],
      "metadata": {
        "id": "kqbu-r5IMBq1",
        "colab": {
          "base_uri": "https://localhost:8080/",
          "height": 34
        },
        "outputId": "1f1a7f5e-1efa-4160-97c4-91f0b233374e"
      },
      "execution_count": null,
      "outputs": [
        {
          "output_type": "display_data",
          "data": {
            "text/html": [
              "'list'"
            ],
            "text/markdown": "'list'",
            "text/latex": "'list'",
            "text/plain": [
              "[1] \"list\""
            ]
          },
          "metadata": {}
        }
      ]
    },
    {
      "cell_type": "code",
      "source": [
        "bprime<-x_on_y_mdl[1]$coefficients[2]\n",
        "bprime"
      ],
      "metadata": {
        "colab": {
          "base_uri": "https://localhost:8080/",
          "height": 34
        },
        "id": "AMPiu7MiMBsd",
        "outputId": "e915baa6-a276-4a2b-869e-4808ac8e8711"
      },
      "execution_count": null,
      "outputs": [
        {
          "output_type": "display_data",
          "data": {
            "text/html": [
              "<strong>ht_wt_data$weight_kg:</strong> 0.794254462616618"
            ],
            "text/markdown": "**ht_wt_data$weight_kg:** 0.794254462616618",
            "text/latex": "\\textbf{ht\\textbackslash{}\\_wt\\textbackslash{}\\_data\\textbackslash{}\\$weight\\textbackslash{}\\_kg:} 0.794254462616618",
            "text/plain": [
              "ht_wt_data$weight_kg \n",
              "           0.7942545 "
            ]
          },
          "metadata": {}
        }
      ]
    },
    {
      "cell_type": "code",
      "source": [
        "typeof(bprime)\n"
      ],
      "metadata": {
        "colab": {
          "base_uri": "https://localhost:8080/",
          "height": 34
        },
        "id": "4WXTnRVPL0lT",
        "outputId": "1a2a9886-0a0a-44c3-dcce-4c549cbbb8af"
      },
      "execution_count": null,
      "outputs": [
        {
          "output_type": "display_data",
          "data": {
            "text/html": [
              "'double'"
            ],
            "text/markdown": "'double'",
            "text/latex": "'double'",
            "text/plain": [
              "[1] \"double\""
            ]
          },
          "metadata": {}
        }
      ]
    },
    {
      "cell_type": "code",
      "source": [
        "b<-y_on_x_mdl[1]$coefficients[2]"
      ],
      "metadata": {
        "id": "mYKnxWofMH_U"
      },
      "execution_count": null,
      "outputs": []
    },
    {
      "cell_type": "code",
      "source": [
        "r_square <- b*bprime\n",
        "r = sqrt( r_square )\n",
        "r"
      ],
      "metadata": {
        "colab": {
          "base_uri": "https://localhost:8080/",
          "height": 34
        },
        "id": "ws9lujaAHamk",
        "outputId": "a26d689c-ad97-4367-b2b2-b66d3fba4f3b"
      },
      "execution_count": null,
      "outputs": [
        {
          "output_type": "display_data",
          "data": {
            "text/html": [
              "<strong>ht_wt_data$height_cm:</strong> 0.960595922733874"
            ],
            "text/markdown": "**ht_wt_data$height_cm:** 0.960595922733874",
            "text/latex": "\\textbf{ht\\textbackslash{}\\_wt\\textbackslash{}\\_data\\textbackslash{}\\$height\\textbackslash{}\\_cm:} 0.960595922733874",
            "text/plain": [
              "ht_wt_data$height_cm \n",
              "           0.9605959 "
            ]
          },
          "metadata": {}
        }
      ]
    },
    {
      "cell_type": "markdown",
      "source": [
        "# Part 2: Check-in exercise \n",
        "\n",
        "Replicate the process using a different dataset:\n",
        "\n",
        "|Height (cm) |FEV1 (litres) |\n",
        "|--|--|\n",
        "| 164|3.54|\n",
        "|167|3.54|\n",
        "|170.4|3.19|\n",
        "|171.2|2.85|\n",
        "|171.2|3.42|\n",
        "|171.3|3.20|\n",
        "|172.0|3.6|\n",
        "|172|3.78|\n",
        "|174|4.32|\n",
        "|176|3.75|\n",
        "|177|3.09|\n",
        "|177|4.05|\n",
        "|177|5.43|\n",
        "|177.4|3.6|\n",
        "|178|2.98|\n",
        "|180.7|4.8|\n",
        "|181|3.96|\n",
        "|183.1|4.78|\n",
        "|183.6|4.56|\n",
        "|183.7|4.68|\n",
        "\n",
        "\n",
        "\n"
      ],
      "metadata": {
        "id": "kx8Qxkw2MUja"
      }
    },
    {
      "cell_type": "code",
      "source": [
        "fev1_ht_df<-matrix( c(164, \t3.54,\n",
        "167 ,\t3.54,\n",
        "170.4, \t3.19,\n",
        "171.2, \t2.85,\n",
        "171.2, \t3.42,\n",
        "171.3, \t3.20,\n",
        "172.0, \t3.6,\n",
        "172, \t3.78,\n",
        "174, \t4.32,\n",
        "176, \t3.75,\n",
        "177, \t3.09,\n",
        "177, \t4.05,\n",
        "177, \t5.43,\n",
        "177.4, \t3.6,\n",
        "178, \t2.98,\n",
        "180.7, \t4.8,\n",
        "181, \t3.96,\n",
        "183.1, \t4.78,\n",
        "183.6, \t4.56,\n",
        "183.7, \t4.68), 2)\n",
        "\n",
        "\n",
        "fev1_ht_df\n",
        "dim(fev1_ht_df)"
      ],
      "metadata": {
        "colab": {
          "base_uri": "https://localhost:8080/",
          "height": 134
        },
        "id": "Upp6Vlp9-Kac",
        "outputId": "0752169f-8400-48a8-c4b5-a15b642a3a8f"
      },
      "execution_count": null,
      "outputs": [
        {
          "output_type": "display_data",
          "data": {
            "text/html": [
              "<table class=\"dataframe\">\n",
              "<caption>A matrix: 2 × 20 of type dbl</caption>\n",
              "<tbody>\n",
              "\t<tr><td>164.00</td><td>167.00</td><td>170.40</td><td>171.20</td><td>171.20</td><td>171.3</td><td>172.0</td><td>172.00</td><td>174.00</td><td>176.00</td><td>177.00</td><td>177.00</td><td>177.00</td><td>177.4</td><td>178.00</td><td>180.7</td><td>181.00</td><td>183.10</td><td>183.60</td><td>183.70</td></tr>\n",
              "\t<tr><td>  3.54</td><td>  3.54</td><td>  3.19</td><td>  2.85</td><td>  3.42</td><td>  3.2</td><td>  3.6</td><td>  3.78</td><td>  4.32</td><td>  3.75</td><td>  3.09</td><td>  4.05</td><td>  5.43</td><td>  3.6</td><td>  2.98</td><td>  4.8</td><td>  3.96</td><td>  4.78</td><td>  4.56</td><td>  4.68</td></tr>\n",
              "</tbody>\n",
              "</table>\n"
            ],
            "text/markdown": "\nA matrix: 2 × 20 of type dbl\n\n| 164.00 | 167.00 | 170.40 | 171.20 | 171.20 | 171.3 | 172.0 | 172.00 | 174.00 | 176.00 | 177.00 | 177.00 | 177.00 | 177.4 | 178.00 | 180.7 | 181.00 | 183.10 | 183.60 | 183.70 |\n|   3.54 |   3.54 |   3.19 |   2.85 |   3.42 |   3.2 |   3.6 |   3.78 |   4.32 |   3.75 |   3.09 |   4.05 |   5.43 |   3.6 |   2.98 |   4.8 |   3.96 |   4.78 |   4.56 |   4.68 |\n\n",
            "text/latex": "A matrix: 2 × 20 of type dbl\n\\begin{tabular}{llllllllllllllllllll}\n\t 164.00 & 167.00 & 170.40 & 171.20 & 171.20 & 171.3 & 172.0 & 172.00 & 174.00 & 176.00 & 177.00 & 177.00 & 177.00 & 177.4 & 178.00 & 180.7 & 181.00 & 183.10 & 183.60 & 183.70\\\\\n\t   3.54 &   3.54 &   3.19 &   2.85 &   3.42 &   3.2 &   3.6 &   3.78 &   4.32 &   3.75 &   3.09 &   4.05 &   5.43 &   3.6 &   2.98 &   4.8 &   3.96 &   4.78 &   4.56 &   4.68\\\\\n\\end{tabular}\n",
            "text/plain": [
              "     [,1]   [,2]   [,3]   [,4]   [,5]   [,6]  [,7]  [,8]   [,9]   [,10]  [,11] \n",
              "[1,] 164.00 167.00 170.40 171.20 171.20 171.3 172.0 172.00 174.00 176.00 177.00\n",
              "[2,]   3.54   3.54   3.19   2.85   3.42   3.2   3.6   3.78   4.32   3.75   3.09\n",
              "     [,12]  [,13]  [,14] [,15]  [,16] [,17]  [,18]  [,19]  [,20] \n",
              "[1,] 177.00 177.00 177.4 178.00 180.7 181.00 183.10 183.60 183.70\n",
              "[2,]   4.05   5.43   3.6   2.98   4.8   3.96   4.78   4.56   4.68"
            ]
          },
          "metadata": {}
        },
        {
          "output_type": "display_data",
          "data": {
            "text/html": [
              "<style>\n",
              ".list-inline {list-style: none; margin:0; padding: 0}\n",
              ".list-inline>li {display: inline-block}\n",
              ".list-inline>li:not(:last-child)::after {content: \"\\00b7\"; padding: 0 .5ex}\n",
              "</style>\n",
              "<ol class=list-inline><li>2</li><li>20</li></ol>\n"
            ],
            "text/markdown": "1. 2\n2. 20\n\n\n",
            "text/latex": "\\begin{enumerate*}\n\\item 2\n\\item 20\n\\end{enumerate*}\n",
            "text/plain": [
              "[1]  2 20"
            ]
          },
          "metadata": {}
        }
      ]
    },
    {
      "cell_type": "code",
      "source": [
        "# let's suppose we have subject IDs  \n",
        "sid <-seq( 1201, 1240, by=2) \n",
        "sid \n",
        "length(sid)"
      ],
      "metadata": {
        "colab": {
          "base_uri": "https://localhost:8080/",
          "height": 69
        },
        "id": "DshFYRtE-1Px",
        "outputId": "24d46ec0-b792-44d1-bb71-1da3b431d9fe"
      },
      "execution_count": null,
      "outputs": [
        {
          "output_type": "display_data",
          "data": {
            "text/html": [
              "<style>\n",
              ".list-inline {list-style: none; margin:0; padding: 0}\n",
              ".list-inline>li {display: inline-block}\n",
              ".list-inline>li:not(:last-child)::after {content: \"\\00b7\"; padding: 0 .5ex}\n",
              "</style>\n",
              "<ol class=list-inline><li>1201</li><li>1203</li><li>1205</li><li>1207</li><li>1209</li><li>1211</li><li>1213</li><li>1215</li><li>1217</li><li>1219</li><li>1221</li><li>1223</li><li>1225</li><li>1227</li><li>1229</li><li>1231</li><li>1233</li><li>1235</li><li>1237</li><li>1239</li></ol>\n"
            ],
            "text/markdown": "1. 1201\n2. 1203\n3. 1205\n4. 1207\n5. 1209\n6. 1211\n7. 1213\n8. 1215\n9. 1217\n10. 1219\n11. 1221\n12. 1223\n13. 1225\n14. 1227\n15. 1229\n16. 1231\n17. 1233\n18. 1235\n19. 1237\n20. 1239\n\n\n",
            "text/latex": "\\begin{enumerate*}\n\\item 1201\n\\item 1203\n\\item 1205\n\\item 1207\n\\item 1209\n\\item 1211\n\\item 1213\n\\item 1215\n\\item 1217\n\\item 1219\n\\item 1221\n\\item 1223\n\\item 1225\n\\item 1227\n\\item 1229\n\\item 1231\n\\item 1233\n\\item 1235\n\\item 1237\n\\item 1239\n\\end{enumerate*}\n",
            "text/plain": [
              " [1] 1201 1203 1205 1207 1209 1211 1213 1215 1217 1219 1221 1223 1225 1227 1229\n",
              "[16] 1231 1233 1235 1237 1239"
            ]
          },
          "metadata": {}
        },
        {
          "output_type": "display_data",
          "data": {
            "text/html": [
              "20"
            ],
            "text/markdown": "20",
            "text/latex": "20",
            "text/plain": [
              "[1] 20"
            ]
          },
          "metadata": {}
        }
      ]
    },
    {
      "cell_type": "code",
      "source": [
        "# bind the rows using rbind\n",
        "fev1_ht_df<-rbind( sid, fev1_ht_df)\n",
        "fev1_ht_df"
      ],
      "metadata": {
        "id": "MI3hGzLhBBM6",
        "colab": {
          "base_uri": "https://localhost:8080/",
          "height": 148
        },
        "outputId": "4e1e884a-9b77-470f-a22d-7a6fe2654bb9"
      },
      "execution_count": null,
      "outputs": [
        {
          "output_type": "display_data",
          "data": {
            "text/html": [
              "<table class=\"dataframe\">\n",
              "<caption>A matrix: 3 × 20 of type dbl</caption>\n",
              "<tbody>\n",
              "\t<tr><th scope=row>sid</th><td>1201.00</td><td>1203.00</td><td>1205.00</td><td>1207.00</td><td>1209.00</td><td>1211.0</td><td>1213.0</td><td>1215.00</td><td>1217.00</td><td>1219.00</td><td>1221.00</td><td>1223.00</td><td>1225.00</td><td>1227.0</td><td>1229.00</td><td>1231.0</td><td>1233.00</td><td>1235.00</td><td>1237.00</td><td>1239.00</td></tr>\n",
              "\t<tr><th scope=row></th><td> 164.00</td><td> 167.00</td><td> 170.40</td><td> 171.20</td><td> 171.20</td><td> 171.3</td><td> 172.0</td><td> 172.00</td><td> 174.00</td><td> 176.00</td><td> 177.00</td><td> 177.00</td><td> 177.00</td><td> 177.4</td><td> 178.00</td><td> 180.7</td><td> 181.00</td><td> 183.10</td><td> 183.60</td><td> 183.70</td></tr>\n",
              "\t<tr><th scope=row></th><td>   3.54</td><td>   3.54</td><td>   3.19</td><td>   2.85</td><td>   3.42</td><td>   3.2</td><td>   3.6</td><td>   3.78</td><td>   4.32</td><td>   3.75</td><td>   3.09</td><td>   4.05</td><td>   5.43</td><td>   3.6</td><td>   2.98</td><td>   4.8</td><td>   3.96</td><td>   4.78</td><td>   4.56</td><td>   4.68</td></tr>\n",
              "</tbody>\n",
              "</table>\n"
            ],
            "text/markdown": "\nA matrix: 3 × 20 of type dbl\n\n| sid | 1201.00 | 1203.00 | 1205.00 | 1207.00 | 1209.00 | 1211.0 | 1213.0 | 1215.00 | 1217.00 | 1219.00 | 1221.00 | 1223.00 | 1225.00 | 1227.0 | 1229.00 | 1231.0 | 1233.00 | 1235.00 | 1237.00 | 1239.00 |\n| <!----> |  164.00 |  167.00 |  170.40 |  171.20 |  171.20 |  171.3 |  172.0 |  172.00 |  174.00 |  176.00 |  177.00 |  177.00 |  177.00 |  177.4 |  178.00 |  180.7 |  181.00 |  183.10 |  183.60 |  183.70 |\n| <!----> |    3.54 |    3.54 |    3.19 |    2.85 |    3.42 |    3.2 |    3.6 |    3.78 |    4.32 |    3.75 |    3.09 |    4.05 |    5.43 |    3.6 |    2.98 |    4.8 |    3.96 |    4.78 |    4.56 |    4.68 |\n\n",
            "text/latex": "A matrix: 3 × 20 of type dbl\n\\begin{tabular}{r|llllllllllllllllllll}\n\tsid & 1201.00 & 1203.00 & 1205.00 & 1207.00 & 1209.00 & 1211.0 & 1213.0 & 1215.00 & 1217.00 & 1219.00 & 1221.00 & 1223.00 & 1225.00 & 1227.0 & 1229.00 & 1231.0 & 1233.00 & 1235.00 & 1237.00 & 1239.00\\\\\n\t &  164.00 &  167.00 &  170.40 &  171.20 &  171.20 &  171.3 &  172.0 &  172.00 &  174.00 &  176.00 &  177.00 &  177.00 &  177.00 &  177.4 &  178.00 &  180.7 &  181.00 &  183.10 &  183.60 &  183.70\\\\\n\t &    3.54 &    3.54 &    3.19 &    2.85 &    3.42 &    3.2 &    3.6 &    3.78 &    4.32 &    3.75 &    3.09 &    4.05 &    5.43 &    3.6 &    2.98 &    4.8 &    3.96 &    4.78 &    4.56 &    4.68\\\\\n\\end{tabular}\n",
            "text/plain": [
              "    [,1]    [,2]    [,3]    [,4]    [,5]    [,6]   [,7]   [,8]    [,9]   \n",
              "sid 1201.00 1203.00 1205.00 1207.00 1209.00 1211.0 1213.0 1215.00 1217.00\n",
              "     164.00  167.00  170.40  171.20  171.20  171.3  172.0  172.00  174.00\n",
              "       3.54    3.54    3.19    2.85    3.42    3.2    3.6    3.78    4.32\n",
              "    [,10]   [,11]   [,12]   [,13]   [,14]  [,15]   [,16]  [,17]   [,18]  \n",
              "sid 1219.00 1221.00 1223.00 1225.00 1227.0 1229.00 1231.0 1233.00 1235.00\n",
              "     176.00  177.00  177.00  177.00  177.4  178.00  180.7  181.00  183.10\n",
              "       3.75    3.09    4.05    5.43    3.6    2.98    4.8    3.96    4.78\n",
              "    [,19]   [,20]  \n",
              "sid 1237.00 1239.00\n",
              "     183.60  183.70\n",
              "       4.56    4.68"
            ]
          },
          "metadata": {}
        }
      ]
    },
    {
      "cell_type": "code",
      "source": [
        "# transpose\n",
        "fev1_ht_df <- t(fev1_ht_df)\n",
        "fev1_ht_df"
      ],
      "metadata": {
        "colab": {
          "base_uri": "https://localhost:8080/",
          "height": 711
        },
        "id": "VI1_KbC7BKV8",
        "outputId": "5e0f241f-eeea-4a21-852b-c0b35143df7b"
      },
      "execution_count": null,
      "outputs": [
        {
          "output_type": "display_data",
          "data": {
            "text/html": [
              "<table class=\"dataframe\">\n",
              "<caption>A matrix: 20 × 3 of type dbl</caption>\n",
              "<thead>\n",
              "\t<tr><th scope=col>sid</th><th scope=col></th><th scope=col></th></tr>\n",
              "</thead>\n",
              "<tbody>\n",
              "\t<tr><td>1201</td><td>164.0</td><td>3.54</td></tr>\n",
              "\t<tr><td>1203</td><td>167.0</td><td>3.54</td></tr>\n",
              "\t<tr><td>1205</td><td>170.4</td><td>3.19</td></tr>\n",
              "\t<tr><td>1207</td><td>171.2</td><td>2.85</td></tr>\n",
              "\t<tr><td>1209</td><td>171.2</td><td>3.42</td></tr>\n",
              "\t<tr><td>1211</td><td>171.3</td><td>3.20</td></tr>\n",
              "\t<tr><td>1213</td><td>172.0</td><td>3.60</td></tr>\n",
              "\t<tr><td>1215</td><td>172.0</td><td>3.78</td></tr>\n",
              "\t<tr><td>1217</td><td>174.0</td><td>4.32</td></tr>\n",
              "\t<tr><td>1219</td><td>176.0</td><td>3.75</td></tr>\n",
              "\t<tr><td>1221</td><td>177.0</td><td>3.09</td></tr>\n",
              "\t<tr><td>1223</td><td>177.0</td><td>4.05</td></tr>\n",
              "\t<tr><td>1225</td><td>177.0</td><td>5.43</td></tr>\n",
              "\t<tr><td>1227</td><td>177.4</td><td>3.60</td></tr>\n",
              "\t<tr><td>1229</td><td>178.0</td><td>2.98</td></tr>\n",
              "\t<tr><td>1231</td><td>180.7</td><td>4.80</td></tr>\n",
              "\t<tr><td>1233</td><td>181.0</td><td>3.96</td></tr>\n",
              "\t<tr><td>1235</td><td>183.1</td><td>4.78</td></tr>\n",
              "\t<tr><td>1237</td><td>183.6</td><td>4.56</td></tr>\n",
              "\t<tr><td>1239</td><td>183.7</td><td>4.68</td></tr>\n",
              "</tbody>\n",
              "</table>\n"
            ],
            "text/markdown": "\nA matrix: 20 × 3 of type dbl\n\n| sid | <!----> | <!----> |\n|---|---|---|\n| 1201 | 164.0 | 3.54 |\n| 1203 | 167.0 | 3.54 |\n| 1205 | 170.4 | 3.19 |\n| 1207 | 171.2 | 2.85 |\n| 1209 | 171.2 | 3.42 |\n| 1211 | 171.3 | 3.20 |\n| 1213 | 172.0 | 3.60 |\n| 1215 | 172.0 | 3.78 |\n| 1217 | 174.0 | 4.32 |\n| 1219 | 176.0 | 3.75 |\n| 1221 | 177.0 | 3.09 |\n| 1223 | 177.0 | 4.05 |\n| 1225 | 177.0 | 5.43 |\n| 1227 | 177.4 | 3.60 |\n| 1229 | 178.0 | 2.98 |\n| 1231 | 180.7 | 4.80 |\n| 1233 | 181.0 | 3.96 |\n| 1235 | 183.1 | 4.78 |\n| 1237 | 183.6 | 4.56 |\n| 1239 | 183.7 | 4.68 |\n\n",
            "text/latex": "A matrix: 20 × 3 of type dbl\n\\begin{tabular}{lll}\n sid &  & \\\\\n\\hline\n\t 1201 & 164.0 & 3.54\\\\\n\t 1203 & 167.0 & 3.54\\\\\n\t 1205 & 170.4 & 3.19\\\\\n\t 1207 & 171.2 & 2.85\\\\\n\t 1209 & 171.2 & 3.42\\\\\n\t 1211 & 171.3 & 3.20\\\\\n\t 1213 & 172.0 & 3.60\\\\\n\t 1215 & 172.0 & 3.78\\\\\n\t 1217 & 174.0 & 4.32\\\\\n\t 1219 & 176.0 & 3.75\\\\\n\t 1221 & 177.0 & 3.09\\\\\n\t 1223 & 177.0 & 4.05\\\\\n\t 1225 & 177.0 & 5.43\\\\\n\t 1227 & 177.4 & 3.60\\\\\n\t 1229 & 178.0 & 2.98\\\\\n\t 1231 & 180.7 & 4.80\\\\\n\t 1233 & 181.0 & 3.96\\\\\n\t 1235 & 183.1 & 4.78\\\\\n\t 1237 & 183.6 & 4.56\\\\\n\t 1239 & 183.7 & 4.68\\\\\n\\end{tabular}\n",
            "text/plain": [
              "      sid            \n",
              " [1,] 1201 164.0 3.54\n",
              " [2,] 1203 167.0 3.54\n",
              " [3,] 1205 170.4 3.19\n",
              " [4,] 1207 171.2 2.85\n",
              " [5,] 1209 171.2 3.42\n",
              " [6,] 1211 171.3 3.20\n",
              " [7,] 1213 172.0 3.60\n",
              " [8,] 1215 172.0 3.78\n",
              " [9,] 1217 174.0 4.32\n",
              "[10,] 1219 176.0 3.75\n",
              "[11,] 1221 177.0 3.09\n",
              "[12,] 1223 177.0 4.05\n",
              "[13,] 1225 177.0 5.43\n",
              "[14,] 1227 177.4 3.60\n",
              "[15,] 1229 178.0 2.98\n",
              "[16,] 1231 180.7 4.80\n",
              "[17,] 1233 181.0 3.96\n",
              "[18,] 1235 183.1 4.78\n",
              "[19,] 1237 183.6 4.56\n",
              "[20,] 1239 183.7 4.68"
            ]
          },
          "metadata": {}
        }
      ]
    },
    {
      "cell_type": "markdown",
      "source": [
        "# 1) Create a data frame using the binded data"
      ],
      "metadata": {
        "id": "ZYxI10sEIFr6"
      }
    },
    {
      "cell_type": "code",
      "source": [
        "\n",
        "fev1_ht_df <- data.frame(fev1_ht_df)\n",
        "fev1_ht_df\n"
      ],
      "metadata": {
        "colab": {
          "base_uri": "https://localhost:8080/",
          "height": 725
        },
        "id": "7B1Yw_rp_aIz",
        "outputId": "fefbd166-f5cd-4341-aa46-95b39b1eb2fc"
      },
      "execution_count": null,
      "outputs": [
        {
          "output_type": "display_data",
          "data": {
            "text/html": [
              "<table class=\"dataframe\">\n",
              "<caption>A data.frame: 20 × 3</caption>\n",
              "<thead>\n",
              "\t<tr><th scope=col>sid</th><th scope=col>V2</th><th scope=col>V3</th></tr>\n",
              "\t<tr><th scope=col>&lt;dbl&gt;</th><th scope=col>&lt;dbl&gt;</th><th scope=col>&lt;dbl&gt;</th></tr>\n",
              "</thead>\n",
              "<tbody>\n",
              "\t<tr><td>1201</td><td>164.0</td><td>3.54</td></tr>\n",
              "\t<tr><td>1203</td><td>167.0</td><td>3.54</td></tr>\n",
              "\t<tr><td>1205</td><td>170.4</td><td>3.19</td></tr>\n",
              "\t<tr><td>1207</td><td>171.2</td><td>2.85</td></tr>\n",
              "\t<tr><td>1209</td><td>171.2</td><td>3.42</td></tr>\n",
              "\t<tr><td>1211</td><td>171.3</td><td>3.20</td></tr>\n",
              "\t<tr><td>1213</td><td>172.0</td><td>3.60</td></tr>\n",
              "\t<tr><td>1215</td><td>172.0</td><td>3.78</td></tr>\n",
              "\t<tr><td>1217</td><td>174.0</td><td>4.32</td></tr>\n",
              "\t<tr><td>1219</td><td>176.0</td><td>3.75</td></tr>\n",
              "\t<tr><td>1221</td><td>177.0</td><td>3.09</td></tr>\n",
              "\t<tr><td>1223</td><td>177.0</td><td>4.05</td></tr>\n",
              "\t<tr><td>1225</td><td>177.0</td><td>5.43</td></tr>\n",
              "\t<tr><td>1227</td><td>177.4</td><td>3.60</td></tr>\n",
              "\t<tr><td>1229</td><td>178.0</td><td>2.98</td></tr>\n",
              "\t<tr><td>1231</td><td>180.7</td><td>4.80</td></tr>\n",
              "\t<tr><td>1233</td><td>181.0</td><td>3.96</td></tr>\n",
              "\t<tr><td>1235</td><td>183.1</td><td>4.78</td></tr>\n",
              "\t<tr><td>1237</td><td>183.6</td><td>4.56</td></tr>\n",
              "\t<tr><td>1239</td><td>183.7</td><td>4.68</td></tr>\n",
              "</tbody>\n",
              "</table>\n"
            ],
            "text/markdown": "\nA data.frame: 20 × 3\n\n| sid &lt;dbl&gt; | V2 &lt;dbl&gt; | V3 &lt;dbl&gt; |\n|---|---|---|\n| 1201 | 164.0 | 3.54 |\n| 1203 | 167.0 | 3.54 |\n| 1205 | 170.4 | 3.19 |\n| 1207 | 171.2 | 2.85 |\n| 1209 | 171.2 | 3.42 |\n| 1211 | 171.3 | 3.20 |\n| 1213 | 172.0 | 3.60 |\n| 1215 | 172.0 | 3.78 |\n| 1217 | 174.0 | 4.32 |\n| 1219 | 176.0 | 3.75 |\n| 1221 | 177.0 | 3.09 |\n| 1223 | 177.0 | 4.05 |\n| 1225 | 177.0 | 5.43 |\n| 1227 | 177.4 | 3.60 |\n| 1229 | 178.0 | 2.98 |\n| 1231 | 180.7 | 4.80 |\n| 1233 | 181.0 | 3.96 |\n| 1235 | 183.1 | 4.78 |\n| 1237 | 183.6 | 4.56 |\n| 1239 | 183.7 | 4.68 |\n\n",
            "text/latex": "A data.frame: 20 × 3\n\\begin{tabular}{lll}\n sid & V2 & V3\\\\\n <dbl> & <dbl> & <dbl>\\\\\n\\hline\n\t 1201 & 164.0 & 3.54\\\\\n\t 1203 & 167.0 & 3.54\\\\\n\t 1205 & 170.4 & 3.19\\\\\n\t 1207 & 171.2 & 2.85\\\\\n\t 1209 & 171.2 & 3.42\\\\\n\t 1211 & 171.3 & 3.20\\\\\n\t 1213 & 172.0 & 3.60\\\\\n\t 1215 & 172.0 & 3.78\\\\\n\t 1217 & 174.0 & 4.32\\\\\n\t 1219 & 176.0 & 3.75\\\\\n\t 1221 & 177.0 & 3.09\\\\\n\t 1223 & 177.0 & 4.05\\\\\n\t 1225 & 177.0 & 5.43\\\\\n\t 1227 & 177.4 & 3.60\\\\\n\t 1229 & 178.0 & 2.98\\\\\n\t 1231 & 180.7 & 4.80\\\\\n\t 1233 & 181.0 & 3.96\\\\\n\t 1235 & 183.1 & 4.78\\\\\n\t 1237 & 183.6 & 4.56\\\\\n\t 1239 & 183.7 & 4.68\\\\\n\\end{tabular}\n",
            "text/plain": [
              "   sid  V2    V3  \n",
              "1  1201 164.0 3.54\n",
              "2  1203 167.0 3.54\n",
              "3  1205 170.4 3.19\n",
              "4  1207 171.2 2.85\n",
              "5  1209 171.2 3.42\n",
              "6  1211 171.3 3.20\n",
              "7  1213 172.0 3.60\n",
              "8  1215 172.0 3.78\n",
              "9  1217 174.0 4.32\n",
              "10 1219 176.0 3.75\n",
              "11 1221 177.0 3.09\n",
              "12 1223 177.0 4.05\n",
              "13 1225 177.0 5.43\n",
              "14 1227 177.4 3.60\n",
              "15 1229 178.0 2.98\n",
              "16 1231 180.7 4.80\n",
              "17 1233 181.0 3.96\n",
              "18 1235 183.1 4.78\n",
              "19 1237 183.6 4.56\n",
              "20 1239 183.7 4.68"
            ]
          },
          "metadata": {}
        }
      ]
    },
    {
      "cell_type": "code",
      "source": [
        "# transpose works for 3D\n",
        "colnames(fev1_ht_df)<-c(\"sid\",\"Height\", \"FEV1\" )\n",
        "\n",
        "fev1_ht_df"
      ],
      "metadata": {
        "colab": {
          "base_uri": "https://localhost:8080/",
          "height": 725
        },
        "id": "qBSU7wqp-1Se",
        "outputId": "3be12889-3c0a-4302-ae8c-7c52edfc19c6"
      },
      "execution_count": null,
      "outputs": [
        {
          "output_type": "display_data",
          "data": {
            "text/html": [
              "<table class=\"dataframe\">\n",
              "<caption>A data.frame: 20 × 3</caption>\n",
              "<thead>\n",
              "\t<tr><th scope=col>sid</th><th scope=col>Height</th><th scope=col>FEV1</th></tr>\n",
              "\t<tr><th scope=col>&lt;dbl&gt;</th><th scope=col>&lt;dbl&gt;</th><th scope=col>&lt;dbl&gt;</th></tr>\n",
              "</thead>\n",
              "<tbody>\n",
              "\t<tr><td>1201</td><td>164.0</td><td>3.54</td></tr>\n",
              "\t<tr><td>1203</td><td>167.0</td><td>3.54</td></tr>\n",
              "\t<tr><td>1205</td><td>170.4</td><td>3.19</td></tr>\n",
              "\t<tr><td>1207</td><td>171.2</td><td>2.85</td></tr>\n",
              "\t<tr><td>1209</td><td>171.2</td><td>3.42</td></tr>\n",
              "\t<tr><td>1211</td><td>171.3</td><td>3.20</td></tr>\n",
              "\t<tr><td>1213</td><td>172.0</td><td>3.60</td></tr>\n",
              "\t<tr><td>1215</td><td>172.0</td><td>3.78</td></tr>\n",
              "\t<tr><td>1217</td><td>174.0</td><td>4.32</td></tr>\n",
              "\t<tr><td>1219</td><td>176.0</td><td>3.75</td></tr>\n",
              "\t<tr><td>1221</td><td>177.0</td><td>3.09</td></tr>\n",
              "\t<tr><td>1223</td><td>177.0</td><td>4.05</td></tr>\n",
              "\t<tr><td>1225</td><td>177.0</td><td>5.43</td></tr>\n",
              "\t<tr><td>1227</td><td>177.4</td><td>3.60</td></tr>\n",
              "\t<tr><td>1229</td><td>178.0</td><td>2.98</td></tr>\n",
              "\t<tr><td>1231</td><td>180.7</td><td>4.80</td></tr>\n",
              "\t<tr><td>1233</td><td>181.0</td><td>3.96</td></tr>\n",
              "\t<tr><td>1235</td><td>183.1</td><td>4.78</td></tr>\n",
              "\t<tr><td>1237</td><td>183.6</td><td>4.56</td></tr>\n",
              "\t<tr><td>1239</td><td>183.7</td><td>4.68</td></tr>\n",
              "</tbody>\n",
              "</table>\n"
            ],
            "text/markdown": "\nA data.frame: 20 × 3\n\n| sid &lt;dbl&gt; | Height &lt;dbl&gt; | FEV1 &lt;dbl&gt; |\n|---|---|---|\n| 1201 | 164.0 | 3.54 |\n| 1203 | 167.0 | 3.54 |\n| 1205 | 170.4 | 3.19 |\n| 1207 | 171.2 | 2.85 |\n| 1209 | 171.2 | 3.42 |\n| 1211 | 171.3 | 3.20 |\n| 1213 | 172.0 | 3.60 |\n| 1215 | 172.0 | 3.78 |\n| 1217 | 174.0 | 4.32 |\n| 1219 | 176.0 | 3.75 |\n| 1221 | 177.0 | 3.09 |\n| 1223 | 177.0 | 4.05 |\n| 1225 | 177.0 | 5.43 |\n| 1227 | 177.4 | 3.60 |\n| 1229 | 178.0 | 2.98 |\n| 1231 | 180.7 | 4.80 |\n| 1233 | 181.0 | 3.96 |\n| 1235 | 183.1 | 4.78 |\n| 1237 | 183.6 | 4.56 |\n| 1239 | 183.7 | 4.68 |\n\n",
            "text/latex": "A data.frame: 20 × 3\n\\begin{tabular}{lll}\n sid & Height & FEV1\\\\\n <dbl> & <dbl> & <dbl>\\\\\n\\hline\n\t 1201 & 164.0 & 3.54\\\\\n\t 1203 & 167.0 & 3.54\\\\\n\t 1205 & 170.4 & 3.19\\\\\n\t 1207 & 171.2 & 2.85\\\\\n\t 1209 & 171.2 & 3.42\\\\\n\t 1211 & 171.3 & 3.20\\\\\n\t 1213 & 172.0 & 3.60\\\\\n\t 1215 & 172.0 & 3.78\\\\\n\t 1217 & 174.0 & 4.32\\\\\n\t 1219 & 176.0 & 3.75\\\\\n\t 1221 & 177.0 & 3.09\\\\\n\t 1223 & 177.0 & 4.05\\\\\n\t 1225 & 177.0 & 5.43\\\\\n\t 1227 & 177.4 & 3.60\\\\\n\t 1229 & 178.0 & 2.98\\\\\n\t 1231 & 180.7 & 4.80\\\\\n\t 1233 & 181.0 & 3.96\\\\\n\t 1235 & 183.1 & 4.78\\\\\n\t 1237 & 183.6 & 4.56\\\\\n\t 1239 & 183.7 & 4.68\\\\\n\\end{tabular}\n",
            "text/plain": [
              "   sid  Height FEV1\n",
              "1  1201 164.0  3.54\n",
              "2  1203 167.0  3.54\n",
              "3  1205 170.4  3.19\n",
              "4  1207 171.2  2.85\n",
              "5  1209 171.2  3.42\n",
              "6  1211 171.3  3.20\n",
              "7  1213 172.0  3.60\n",
              "8  1215 172.0  3.78\n",
              "9  1217 174.0  4.32\n",
              "10 1219 176.0  3.75\n",
              "11 1221 177.0  3.09\n",
              "12 1223 177.0  4.05\n",
              "13 1225 177.0  5.43\n",
              "14 1227 177.4  3.60\n",
              "15 1229 178.0  2.98\n",
              "16 1231 180.7  4.80\n",
              "17 1233 181.0  3.96\n",
              "18 1235 183.1  4.78\n",
              "19 1237 183.6  4.56\n",
              "20 1239 183.7  4.68"
            ]
          },
          "metadata": {}
        }
      ]
    },
    {
      "cell_type": "code",
      "source": [
        "x_on_y_mdl <- lm(fev1_ht_df$Height ~ fev1_ht_df$FEV1 )\n",
        "y_on_x_mdl <- lm(fev1_ht_df$FEV1 ~  fev1_ht_df$Height  )\n"
      ],
      "metadata": {
        "id": "XhuF-kw4-qei"
      },
      "execution_count": null,
      "outputs": []
    },
    {
      "cell_type": "code",
      "source": [
        "b0 <- coef(summary(y_on_x_mdl))[1]\n",
        "b  <- coef(summary(y_on_x_mdl))[2]\n",
        "\n",
        "b0prime <- coef(summary(x_on_y_mdl))[1]\n",
        "bprime  <- coef(summary(x_on_y_mdl))[2]\n",
        "\n",
        "bprime\n",
        "b"
      ],
      "metadata": {
        "colab": {
          "base_uri": "https://localhost:8080/",
          "height": 52
        },
        "id": "1HKwCYp_H6lY",
        "outputId": "45eb4ab1-e7ef-4d22-e51b-46bbcdf0f3a2"
      },
      "execution_count": null,
      "outputs": [
        {
          "output_type": "display_data",
          "data": {
            "text/html": [
              "4.54241482919222"
            ],
            "text/markdown": "4.54241482919222",
            "text/latex": "4.54241482919222",
            "text/plain": [
              "[1] 4.542415"
            ]
          },
          "metadata": {}
        },
        {
          "output_type": "display_data",
          "data": {
            "text/html": [
              "0.0743892621175945"
            ],
            "text/markdown": "0.0743892621175945",
            "text/latex": "0.0743892621175945",
            "text/plain": [
              "[1] 0.07438926"
            ]
          },
          "metadata": {}
        }
      ]
    },
    {
      "cell_type": "code",
      "source": [
        "typeof(b)"
      ],
      "metadata": {
        "colab": {
          "base_uri": "https://localhost:8080/",
          "height": 34
        },
        "id": "tly829-TB_4A",
        "outputId": "c1fb6c26-ba90-4ab0-de41-3c33b908d29a"
      },
      "execution_count": null,
      "outputs": [
        {
          "output_type": "display_data",
          "data": {
            "text/html": [
              "'double'"
            ],
            "text/markdown": "'double'",
            "text/latex": "'double'",
            "text/plain": [
              "[1] \"double\""
            ]
          },
          "metadata": {}
        }
      ]
    },
    {
      "cell_type": "code",
      "source": [
        "r_square <- b*bprime \n",
        "r_square\n",
        "\n",
        "r<- sqrt(r_square)\n",
        "r"
      ],
      "metadata": {
        "colab": {
          "base_uri": "https://localhost:8080/",
          "height": 52
        },
        "id": "brsDg5PvBreJ",
        "outputId": "ad9324ae-e297-4c53-b1e2-49b5b6c7bfee"
      },
      "execution_count": null,
      "outputs": [
        {
          "output_type": "display_data",
          "data": {
            "text/html": [
              "0.337906887375628"
            ],
            "text/markdown": "0.337906887375628",
            "text/latex": "0.337906887375628",
            "text/plain": [
              "[1] 0.3379069"
            ]
          },
          "metadata": {}
        },
        {
          "output_type": "display_data",
          "data": {
            "text/html": [
              "0.581297589342695"
            ],
            "text/markdown": "0.581297589342695",
            "text/latex": "0.581297589342695",
            "text/plain": [
              "[1] 0.5812976"
            ]
          },
          "metadata": {}
        }
      ]
    },
    {
      "cell_type": "markdown",
      "source": [
        "# 2) Interpret the output"
      ],
      "metadata": {
        "id": "wd_O8V40H9pu"
      }
    },
    {
      "cell_type": "code",
      "source": [
        "summary( y_on_x_mdl )"
      ],
      "metadata": {
        "colab": {
          "base_uri": "https://localhost:8080/",
          "height": 329
        },
        "id": "Nm3-9RXqBnYm",
        "outputId": "f70bd473-99be-45b0-f17e-12dff1744086"
      },
      "execution_count": null,
      "outputs": [
        {
          "output_type": "display_data",
          "data": {
            "text/plain": [
              "\n",
              "Call:\n",
              "lm(formula = fev1_ht_df$FEV1 ~ fev1_ht_df$Height)\n",
              "\n",
              "Residuals:\n",
              "     Min       1Q   Median       3Q      Max \n",
              "-1.07090 -0.32367  0.03446  0.31797  1.45349 \n",
              "\n",
              "Coefficients:\n",
              "                  Estimate Std. Error t value Pr(>|t|)   \n",
              "(Intercept)       -9.19039    4.30644  -2.134  0.04684 * \n",
              "fev1_ht_df$Height  0.07439    0.02454   3.031  0.00719 **\n",
              "---\n",
              "Signif. codes:  0 ‘***’ 0.001 ‘**’ 0.01 ‘*’ 0.05 ‘.’ 0.1 ‘ ’ 1\n",
              "\n",
              "Residual standard error: 0.5892 on 18 degrees of freedom\n",
              "Multiple R-squared:  0.3379,\tAdjusted R-squared:  0.3011 \n",
              "F-statistic: 9.187 on 1 and 18 DF,  p-value: 0.007185\n"
            ]
          },
          "metadata": {}
        }
      ]
    },
    {
      "cell_type": "code",
      "source": [
        "xi <-c(fev1_ht_df$Height)\n",
        "yi <-c(fev1_ht_df$FEV1)\n",
        "x_mean <- mean( xi )\n",
        "n <- length( xi )\n",
        "y_mean = mean( yi )\n",
        "residual_var <- 1/(n-2)*(sum(( yi - y_mean )**2) - b**2 *sum( (xi-x_mean)**2 ) ) \n",
        "ss_x <- sum( (xi-x_mean)^2)\n",
        "se_b <- sqrt( residual_var /ss_x )\n",
        "se_b\n",
        "t <- b/se_b\n",
        "t \n",
        "# Pr( >|t| )=.00719 tells us to reject null hypothesis that there's no association"
      ],
      "metadata": {
        "colab": {
          "base_uri": "https://localhost:8080/",
          "height": 52
        },
        "id": "IXqJf7uvIfDC",
        "outputId": "64cbf566-da1e-491a-8e38-15026e6819ae"
      },
      "execution_count": null,
      "outputs": [
        {
          "output_type": "display_data",
          "data": {
            "text/html": [
              "0.0245434161664304"
            ],
            "text/markdown": "0.0245434161664304",
            "text/latex": "0.0245434161664304",
            "text/plain": [
              "[1] 0.02454342"
            ]
          },
          "metadata": {}
        },
        {
          "output_type": "display_data",
          "data": {
            "text/html": [
              "3.03092534523949"
            ],
            "text/markdown": "3.03092534523949",
            "text/latex": "3.03092534523949",
            "text/plain": [
              "[1] 3.030925"
            ]
          },
          "metadata": {}
        }
      ]
    },
    {
      "cell_type": "code",
      "source": [],
      "metadata": {
        "id": "Kq1E4y3aFy8e"
      },
      "execution_count": null,
      "outputs": []
    },
    {
      "cell_type": "markdown",
      "source": [
        "Predict FEV1 given height = 177cm"
      ],
      "metadata": {
        "id": "-2h4lMWXGtEK"
      }
    },
    {
      "cell_type": "code",
      "source": [
        "x1=177\n",
        "\n",
        "predicted_fev1 <- b0 + b * x1\n",
        "print( predicted_fev1 )\n"
      ],
      "metadata": {
        "colab": {
          "base_uri": "https://localhost:8080/"
        },
        "id": "r2bbXB2gGumx",
        "outputId": "14ca13ea-7594-4317-b47f-a1219129e29a"
      },
      "execution_count": null,
      "outputs": [
        {
          "output_type": "stream",
          "name": "stdout",
          "text": [
            "[1] 3.976511\n"
          ]
        }
      ]
    },
    {
      "cell_type": "code",
      "source": [
        "delta <-(x1-x_mean)**2\n",
        "se<- sqrt(residual_var *(1/n + delta/ss_x ))\n",
        "se\n",
        "val <-2.1\n",
        "lower<-predicted_fev1 - val * se \n",
        "upper<-predicted_fev1 + val * se\n",
        "o <-sprintf('Person with height %.2fcm is predicted to have FEV1 of %.2f liters with 95%% c.i. in [%.2f, %.2f]', x1, predicted_fev1, lower, upper)\n",
        "\n",
        "print(o )\n"
      ],
      "metadata": {
        "colab": {
          "base_uri": "https://localhost:8080/",
          "height": 72
        },
        "id": "oXYIwRmfB-0j",
        "outputId": "4015fd72-9431-4af2-e75e-37bfa61f6dcb"
      },
      "execution_count": null,
      "outputs": [
        {
          "output_type": "display_data",
          "data": {
            "text/html": [
              "0.13762270608865"
            ],
            "text/markdown": "0.13762270608865",
            "text/latex": "0.13762270608865",
            "text/plain": [
              "[1] 0.1376227"
            ]
          },
          "metadata": {}
        },
        {
          "output_type": "stream",
          "name": "stdout",
          "text": [
            "[1] \"Person with height 177.00cm is predicted to have FEV1 of 3.98 liters with 95% c.i. in [3.69, 4.27]\"\n"
          ]
        }
      ]
    },
    {
      "cell_type": "markdown",
      "source": [
        "# 3) Example of defining own function ...and then calling it"
      ],
      "metadata": {
        "id": "sDQzfXEoIN8p"
      }
    },
    {
      "cell_type": "code",
      "source": [
        "predict_fev1 <- function(x1, x_mean, residual_var, delta, ss_x)\n",
        "{\n",
        "  delta <-(x1-x_mean)**2\n",
        "  se<- sqrt(residual_var *(1/n + delta/ss_x ))\n",
        "  se\n",
        "  val <-2.1\n",
        "  lower<-predicted_fev1 - val * se \n",
        "  upper<-predicted_fev1 + val * se\n",
        "  o <-sprintf('Person with height %.1fcm is predicted to have FEV1 of %.2f liters with 95%% c.i. in [%.2f, %.2f]', x1, predicted_fev1, lower, upper)\n",
        "\n",
        "  print(o )\n",
        "}\n",
        "\n",
        "predict_fev1( xi[1], x_mean, residual_var, delta, ss_x)\n"
      ],
      "metadata": {
        "colab": {
          "base_uri": "https://localhost:8080/"
        },
        "id": "nw7yWDIxMt8V",
        "outputId": "6d9d30f9-4490-4787-fab8-59e2f99a7694"
      },
      "execution_count": null,
      "outputs": [
        {
          "output_type": "stream",
          "name": "stdout",
          "text": [
            "[1] \"Person with height 164.0cm is predicted to have FEV1 of 3.98 liters with 95% c.i. in [3.33, 4.63]\"\n"
          ]
        }
      ]
    }
  ]
}