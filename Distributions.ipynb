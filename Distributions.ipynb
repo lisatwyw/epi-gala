{
  "nbformat": 4,
  "nbformat_minor": 0,
  "metadata": {
    "colab": {
      "provenance": [],
      "toc_visible": true,
      "include_colab_link": true
    },
    "kernelspec": {
      "name": "ir",
      "display_name": "R"
    },
    "language_info": {
      "name": "R"
    }
  },
  "cells": [
    {
      "cell_type": "markdown",
      "metadata": {
        "id": "view-in-github",
        "colab_type": "text"
      },
      "source": [
        "<a href=\"https://colab.research.google.com/github/lisatwyw/epi-galla.github.io/blob/main/Distributions.ipynb\" target=\"_parent\"><img src=\"https://colab.research.google.com/assets/colab-badge.svg\" alt=\"Open In Colab\"/></a>"
      ]
    },
    {
      "cell_type": "markdown",
      "source": [
        "\n",
        "\n",
        "# R convention \n",
        "- r: generic prefix for random variable generation, e.g. ```rnorm()```\n",
        "\n",
        "- d: probability density function, e.g. ```dunif()``` and ```dnorm()``` \n",
        "- p: cumulative density function, e.g. ```punif()``` and ```pnorm()``` \n",
        "- q: quantile function, e.g. ```qunif()``` and ```qnorm()``` "
      ],
      "metadata": {
        "id": "ZM79J6C4j0H1"
      }
    },
    {
      "cell_type": "code",
      "source": [
        "if (0)\n",
        "{\n",
        "        curve()\n",
        "\n",
        "        dchisq()\n",
        "\n",
        "        df()\n",
        "\n",
        "        dunif()\n",
        "\n",
        "        length()\n",
        "\n",
        "        mean()\n",
        "\n",
        "        pchisq()\n",
        "\n",
        "        pf()\n",
        "\n",
        "        pnorm()\n",
        "\n",
        "        pt()\n",
        "\n",
        "        punif()\n",
        "\n",
        "        qchisq()\n",
        "\n",
        "        qf()\n",
        "\n",
        "        qnorm()\n",
        "\n",
        "        qt()\n",
        "\n",
        "        qunif()\n",
        "\n",
        "        rchisq()\n",
        "\n",
        "        rt()\n",
        "\n",
        "        runif()\n",
        "\n",
        "        sd()\n",
        "\n",
        "        seq()\n",
        "\n",
        "        subset()\n",
        "\n",
        "        sum()\n",
        "}"
      ],
      "metadata": {
        "id": "mrKMvEvgj0qQ"
      },
      "execution_count": null,
      "outputs": []
    },
    {
      "cell_type": "markdown",
      "source": [
        "# 1) Binomial distribution\n",
        "\n",
        "- ```rbinom```: random Bionmial\n",
        "- ```dbinorm```: probability density function (pdf) of the binomial distribution"
      ],
      "metadata": {
        "id": "mUgNw9cTMe_Z"
      }
    },
    {
      "cell_type": "code",
      "source": [
        "?rbinom"
      ],
      "metadata": {
        "id": "UInXP6LLduQH"
      },
      "execution_count": null,
      "outputs": []
    },
    {
      "cell_type": "code",
      "source": [
        "# 10 tosses of fair coin\n",
        "(fair<-rbinom( n=10, size=1, prob=.5))\n",
        "sum(fair)\n",
        "\n",
        "# 10 tosses of fair coin\n",
        "(unfair<-rbinom(n=10, size=1, prob=.9))\n",
        "sum(unfair)\n",
        "\n",
        "# remember how to make results reproducible!?"
      ],
      "metadata": {
        "colab": {
          "base_uri": "https://localhost:8080/",
          "height": 86
        },
        "id": "P654KbBMdZra",
        "outputId": "57fc3faf-83d8-41c6-8126-a266613de69f"
      },
      "execution_count": null,
      "outputs": [
        {
          "output_type": "display_data",
          "data": {
            "text/html": [
              "<style>\n",
              ".list-inline {list-style: none; margin:0; padding: 0}\n",
              ".list-inline>li {display: inline-block}\n",
              ".list-inline>li:not(:last-child)::after {content: \"\\00b7\"; padding: 0 .5ex}\n",
              "</style>\n",
              "<ol class=list-inline><li>1</li><li>1</li><li>1</li><li>0</li><li>0</li><li>1</li><li>0</li><li>1</li><li>0</li><li>1</li></ol>\n"
            ],
            "text/markdown": "1. 1\n2. 1\n3. 1\n4. 0\n5. 0\n6. 1\n7. 0\n8. 1\n9. 0\n10. 1\n\n\n",
            "text/latex": "\\begin{enumerate*}\n\\item 1\n\\item 1\n\\item 1\n\\item 0\n\\item 0\n\\item 1\n\\item 0\n\\item 1\n\\item 0\n\\item 1\n\\end{enumerate*}\n",
            "text/plain": [
              " [1] 1 1 1 0 0 1 0 1 0 1"
            ]
          },
          "metadata": {}
        },
        {
          "output_type": "display_data",
          "data": {
            "text/html": [
              "6"
            ],
            "text/markdown": "6",
            "text/latex": "6",
            "text/plain": [
              "[1] 6"
            ]
          },
          "metadata": {}
        },
        {
          "output_type": "display_data",
          "data": {
            "text/html": [
              "<style>\n",
              ".list-inline {list-style: none; margin:0; padding: 0}\n",
              ".list-inline>li {display: inline-block}\n",
              ".list-inline>li:not(:last-child)::after {content: \"\\00b7\"; padding: 0 .5ex}\n",
              "</style>\n",
              "<ol class=list-inline><li>1</li><li>1</li><li>1</li><li>1</li><li>1</li><li>1</li><li>1</li><li>1</li><li>1</li><li>1</li></ol>\n"
            ],
            "text/markdown": "1. 1\n2. 1\n3. 1\n4. 1\n5. 1\n6. 1\n7. 1\n8. 1\n9. 1\n10. 1\n\n\n",
            "text/latex": "\\begin{enumerate*}\n\\item 1\n\\item 1\n\\item 1\n\\item 1\n\\item 1\n\\item 1\n\\item 1\n\\item 1\n\\item 1\n\\item 1\n\\end{enumerate*}\n",
            "text/plain": [
              " [1] 1 1 1 1 1 1 1 1 1 1"
            ]
          },
          "metadata": {}
        },
        {
          "output_type": "display_data",
          "data": {
            "text/html": [
              "10"
            ],
            "text/markdown": "10",
            "text/latex": "10",
            "text/plain": [
              "[1] 10"
            ]
          },
          "metadata": {}
        }
      ]
    },
    {
      "cell_type": "code",
      "source": [
        "typeof(fair)\n"
      ],
      "metadata": {
        "colab": {
          "base_uri": "https://localhost:8080/",
          "height": 34
        },
        "id": "yzeW20NSOqdY",
        "outputId": "05b727ae-61b8-4f96-b1d0-b252c2ca2053"
      },
      "execution_count": null,
      "outputs": [
        {
          "output_type": "display_data",
          "data": {
            "text/html": [
              "'integer'"
            ],
            "text/markdown": "'integer'",
            "text/latex": "'integer'",
            "text/plain": [
              "[1] \"integer\""
            ]
          },
          "metadata": {}
        }
      ]
    },
    {
      "cell_type": "code",
      "source": [
        "n<- 50 # n trials\n",
        "plot( dbinom(1:n,n,0.5) )\n",
        "\n",
        "if (1) # 2 ways to add vertical grids  \n",
        "{\n",
        "  axis(1,\n",
        "     at = seq(0, n, by = 1),\n",
        "     tck = 1, lty = 2, col = \"gray\")\n",
        "} else\n",
        "{\n",
        "  grid(ny = NA,\n",
        "     nx = NULL,\n",
        "     lty = 2, col = \"gray\", lwd = 2)\n",
        "}     "
      ],
      "metadata": {
        "colab": {
          "base_uri": "https://localhost:8080/",
          "height": 437
        },
        "id": "njmCpRoMMwqp",
        "outputId": "f8351ab7-668e-41ae-dd9c-5b282183501f"
      },
      "execution_count": null,
      "outputs": [
        {
          "output_type": "display_data",
          "data": {
            "text/plain": [
              "plot without title"
            ],
            "image/png": "[encoded data removed]"
          },
          "metadata": {
            "image/png": {
              "width": 420,
              "height": 420
            }
          }
        }
      ]
    },
    {
      "cell_type": "code",
      "source": [
        "dbinom( x=20, size=n, prob=.5 )\n",
        "dbinom( x=30, size=n, prob=.5 )\n",
        "dbinom( x=n/2, size=n, prob=.5 )"
      ],
      "metadata": {
        "colab": {
          "base_uri": "https://localhost:8080/",
          "height": 69
        },
        "id": "KmpOGM8wbVGz",
        "outputId": "fe914e11-f9f4-4c46-9248-b0cb606caea8"
      },
      "execution_count": null,
      "outputs": [
        {
          "output_type": "display_data",
          "data": {
            "text/html": [
              "0.0418591492525521"
            ],
            "text/markdown": "0.0418591492525521",
            "text/latex": "0.0418591492525521",
            "text/plain": [
              "[1] 0.04185915"
            ]
          },
          "metadata": {}
        },
        {
          "output_type": "display_data",
          "data": {
            "text/html": [
              "0.0418591492525521"
            ],
            "text/markdown": "0.0418591492525521",
            "text/latex": "0.0418591492525521",
            "text/plain": [
              "[1] 0.04185915"
            ]
          },
          "metadata": {}
        },
        {
          "output_type": "display_data",
          "data": {
            "text/html": [
              "0.112275172659217"
            ],
            "text/markdown": "0.112275172659217",
            "text/latex": "0.112275172659217",
            "text/plain": [
              "[1] 0.1122752"
            ]
          },
          "metadata": {}
        }
      ]
    },
    {
      "cell_type": "code",
      "execution_count": null,
      "metadata": {
        "colab": {
          "base_uri": "https://localhost:8080/",
          "height": 34
        },
        "id": "oTPxDcpOMdmF",
        "outputId": "cecc8d6c-050c-46ae-b8e3-c51063353eb6"
      },
      "outputs": [
        {
          "output_type": "display_data",
          "data": {
            "text/html": [
              "0.0739288330078125"
            ],
            "text/markdown": "0.0739288330078125",
            "text/latex": "0.0739288330078125",
            "text/plain": [
              "[1] 0.07392883"
            ]
          },
          "metadata": {}
        }
      ],
      "source": [
        "# One flips a fair coin 20 times. What is the probability that the coin lands on heads exactly 7 times?\n",
        "dbinom( x=7, size=20, prob=.5 )\n"
      ]
    },
    {
      "cell_type": "markdown",
      "source": [
        "# 2) Cumulative density function "
      ],
      "metadata": {
        "id": "hFM7y6dvMgDU"
      }
    },
    {
      "cell_type": "code",
      "source": [
        "# Fair coin 20 times: what is the probability that the coin lands on heads more than 2 times?\n",
        "\n",
        "pbinom(19, size=20, prob=.5, lower.tail=FALSE)  #FALSE because of \"more than\""
      ],
      "metadata": {
        "colab": {
          "base_uri": "https://localhost:8080/",
          "height": 34
        },
        "id": "bMMH3jzOMkfA",
        "outputId": "a1d546cd-aac3-4a06-f852-34293670ae90"
      },
      "execution_count": null,
      "outputs": [
        {
          "output_type": "display_data",
          "data": {
            "text/html": [
              "9.53674316406249e-07"
            ],
            "text/markdown": "9.53674316406249e-07",
            "text/latex": "9.53674316406249e-07",
            "text/plain": [
              "[1] 9.536743e-07"
            ]
          },
          "metadata": {}
        }
      ]
    },
    {
      "cell_type": "markdown",
      "source": [
        "# 3) F-test & F distribution [added Nov 21]\n",
        "\n",
        "\n",
        "- Any test in which the test statistic has F-distribution under the \"null hypothesis\", i.e. \"two possibilities are the same\"\n",
        "\n",
        "- Coined by Ronald Fisher \n",
        "\n",
        "    \n"
      ],
      "metadata": {
        "id": "4636k_EiAsHN"
      }
    },
    {
      "cell_type": "markdown",
      "source": [
        "\n",
        "## Preliminaries\n",
        "- data vector $x$ of size $N$ that can be categorized into $G$ groups of measurements\n",
        "  - $G>1$ (comparing between two or more groups)\n",
        "  - overall mean abbreviated as $\\hat{\\mu}$"
      ],
      "metadata": {
        "id": "BKWaaVAfEJKQ"
      }
    },
    {
      "cell_type": "markdown",
      "source": [
        "## Common applications:\n",
        "\n",
        "- H0: means of $G$ populations are equal (ANOVA), where populations are all normally distributed and having same standard deviation ($\\sigma$) \n",
        "- H0: model fits the data well\n",
        "- H0: dataset set in a regression analysis follows one of two proposed linear models (in particular, the simpler model is better) "
      ],
      "metadata": {
        "id": "KuuZ8jqSC7pz"
      }
    },
    {
      "cell_type": "markdown",
      "source": [
        "## Formula \n",
        "\n",
        "\n",
        "- Ratio of two variances:\n",
        "  $\\frac{ \\text{ explained_var } }{ \\text{unexplained_var} }$ or\n",
        "  $\\frac{ \\text{ between } }{ \\text{within} }$\n",
        "\n",
        "\n",
        "- Explained or between-group variance:\n",
        "  - $\\text{between} := \\sum_{i=1}^G  n_i ( \\hat{x}_i - \\hat{\\mu} )^2  \\frac{1}{ G - 1}$\n",
        "    - $i$ is group index, each of size $n_i$, $\\hat{\\mu}$ is overall mean of the data\n",
        "\n",
        "\n",
        "\n",
        "- Unexplained or within-group variance:      \n",
        "  - $\\text{within} :=  \\sum_{i=1}^g \\sum_{j=1}^{n_i} ( x_{ij} - \\hat{x}_i )^2 \\frac{1}{ N - g} $ \n",
        "\n",
        "\n",
        "- Conceptually, F-statistic is large if the between-group variability is large relative to within-group variability, which is unlikely if the population means of the groups are close to identical      "
      ],
      "metadata": {
        "id": "J_QTNJHFC6Jk"
      }
    },
    {
      "cell_type": "markdown",
      "source": [
        "\n",
        "\n",
        "Two fitted models, with residual sum of squares $RSS_1$ and $RSS_2$, respectively: \n",
        "\n",
        "$F = \\frac{(\\frac{RSS_1 - RSS_2}{ p2 - p1})}{ (\\frac{ RSS_2 }{ n-p2} ) }$"
      ],
      "metadata": {
        "id": "DhfTs87XHE0q"
      }
    },
    {
      "cell_type": "markdown",
      "source": [
        "# 4) Exponential distribution [added Nov 24]\n",
        "\n",
        "\n",
        "$f(x)= \\frac{ \\exp(−x/\\mu) }{ \\mu }$\n",
        "\n",
        "- $x>0$\n",
        "- $\\mu>0$\n"
      ],
      "metadata": {
        "id": "YavZ-4v-Aiat"
      }
    },
    {
      "cell_type": "code",
      "source": [
        "x<-1:10\n",
        "t<-1\n",
        "mu<-1\n",
        "transformed <- exp( -x/ mu )/ mu \n",
        "plot( transformed  )\n",
        "axis(1, at = seq(0, n, by = 1),tck = 1, lty = 2, col = \"gray\")\n",
        "# grid(ny = NA, nx = NULL, lty = 2, col = \"gray\", lwd = 2)"
      ],
      "metadata": {
        "id": "IzFHllfuAgrH"
      },
      "execution_count": null,
      "outputs": []
    },
    {
      "cell_type": "markdown",
      "source": [
        "# Viewing the definition of a built-in function [added Nov 25]\n",
        "\n",
        "Simply, type the name of the function you're inquiring; e.g. ```sd```:"
      ],
      "metadata": {
        "id": "oxTjS3g9sHjD"
      }
    },
    {
      "cell_type": "code",
      "source": [
        "sd\n"
      ],
      "metadata": {
        "colab": {
          "base_uri": "https://localhost:8080/",
          "height": 69
        },
        "id": "MR1dhYxfsAxL",
        "outputId": "2b3768b0-0462-4843-e5b4-70d1298badba"
      },
      "execution_count": null,
      "outputs": [
        {
          "output_type": "display_data",
          "data": {
            "text/html": [
              "<pre class=language-r><code>function (x, na.rm = FALSE) \n",
              "sqrt(var(if (is.vector(x) || is.factor(x)) x else as.double(x), \n",
              "<span style=white-space:pre-wrap>    na.rm = na.rm))</span></code></pre>"
            ],
            "text/markdown": "```r\nfunction (x, na.rm = FALSE) \nsqrt(var(if (is.vector(x) || is.factor(x)) x else as.double(x), \n    na.rm = na.rm))\n```",
            "text/latex": "\\begin{minted}{r}\nfunction (x, na.rm = FALSE) \nsqrt(var(if (is.vector(x) \\textbar{}\\textbar{} is.factor(x)) x else as.double(x), \n    na.rm = na.rm))\n\\end{minted}",
            "text/plain": [
              "function (x, na.rm = FALSE) \n",
              "sqrt(var(if (is.vector(x) || is.factor(x)) x else as.double(x), \n",
              "    na.rm = na.rm))\n",
              "<bytecode: 0x55f45a746190>\n",
              "<environment: namespace:stats>"
            ]
          },
          "metadata": {}
        }
      ]
    },
    {
      "cell_type": "markdown",
      "source": [
        "Preceeding with question mark gives us the documentation instead (which can be difficult to read)"
      ],
      "metadata": {
        "id": "R-vsAK4rsYvg"
      }
    },
    {
      "cell_type": "code",
      "source": [
        "?sd"
      ],
      "metadata": {
        "id": "9csu9GsOsUsv"
      },
      "execution_count": null,
      "outputs": []
    },
    {
      "cell_type": "markdown",
      "source": [
        "# Refresher on factorial (background to Poisson)\n",
        "\n",
        "\n",
        "- Mathematically, $q! = q \\times (q-1) \\times (q -2) \\dots \\times 3 \\times 2 \\times 1$\n",
        "\n",
        "  - e.g. $3! = 3 \\times 2 \\times 1$ \n",
        "\n",
        "- We can use the ```factorial()``` function:\n",
        "\n"
      ],
      "metadata": {
        "id": "JMFFoKd8rwtM"
      }
    },
    {
      "cell_type": "code",
      "source": [
        "factorial( 3 )"
      ],
      "metadata": {
        "colab": {
          "base_uri": "https://localhost:8080/",
          "height": 34
        },
        "id": "PTDCB0r3tdiu",
        "outputId": "9231ab09-0e9e-4b57-bfb7-15dbf7f91a4d"
      },
      "execution_count": null,
      "outputs": [
        {
          "output_type": "display_data",
          "data": {
            "text/html": [
              "6"
            ],
            "text/markdown": "6",
            "text/latex": "6",
            "text/plain": [
              "[1] 6"
            ]
          },
          "metadata": {}
        }
      ]
    },
    {
      "cell_type": "code",
      "source": [
        "combn( 1:3, 3)"
      ],
      "metadata": {
        "colab": {
          "base_uri": "https://localhost:8080/",
          "height": 278
        },
        "id": "hGQQez6qr902",
        "outputId": "2532d0ff-d706-42ef-a364-2734c4783b76"
      },
      "execution_count": null,
      "outputs": [
        {
          "output_type": "display_data",
          "data": {
            "text/html": [
              "<table class=\"dataframe\">\n",
              "<caption>A matrix: 5 × 1 of type int</caption>\n",
              "<tbody>\n",
              "\t<tr><td>1</td></tr>\n",
              "\t<tr><td>2</td></tr>\n",
              "\t<tr><td>3</td></tr>\n",
              "\t<tr><td>4</td></tr>\n",
              "\t<tr><td>5</td></tr>\n",
              "</tbody>\n",
              "</table>\n"
            ],
            "text/markdown": "\nA matrix: 5 × 1 of type int\n\n| 1 |\n| 2 |\n| 3 |\n| 4 |\n| 5 |\n\n",
            "text/latex": "A matrix: 5 × 1 of type int\n\\begin{tabular}{l}\n\t 1\\\\\n\t 2\\\\\n\t 3\\\\\n\t 4\\\\\n\t 5\\\\\n\\end{tabular}\n",
            "text/plain": [
              "     [,1]\n",
              "[1,] 1   \n",
              "[2,] 2   \n",
              "[3,] 3   \n",
              "[4,] 4   \n",
              "[5,] 5   "
            ]
          },
          "metadata": {}
        }
      ]
    },
    {
      "cell_type": "code",
      "source": [
        "prod( combn( 1:3, 3) )"
      ],
      "metadata": {
        "colab": {
          "base_uri": "https://localhost:8080/",
          "height": 34
        },
        "id": "6LNJvtoUtyHa",
        "outputId": "86642ea6-987e-4ea9-f585-f76e756eb142"
      },
      "execution_count": null,
      "outputs": [
        {
          "output_type": "display_data",
          "data": {
            "text/html": [
              "6"
            ],
            "text/markdown": "6",
            "text/latex": "6",
            "text/plain": [
              "[1] 6"
            ]
          },
          "metadata": {}
        }
      ]
    },
    {
      "cell_type": "markdown",
      "source": [
        "# 5) Poisson distribution [added Nov 25]\n",
        "\n",
        "Adopted from [Koehrsen's blog](https://towardsdatascience.com/the-poisson-distribution-and-poisson-process-explained-4e2cb17d459):\n",
        "\n",
        "\n",
        "- $\\lambda$: rate parameter; e.g. 5 meteors per hour (1 every 12 minutes); $\\lambda = 5$\n",
        "\n",
        "- A discrete random variable $X$ is said to have Poisson distribution if it has a probability mass function given by:\n",
        "\n",
        "  - $Pr( \\text{X=q}| \\lambda ) = \\frac{e^{-\\lambda} \\lambda^q }{ q! }$ where:\n",
        "    - $q$ is a count of events happening over a time period\n",
        "    - $e$ is Euler's number, $e=2.71828\\dots$\n",
        "\n",
        "- Assumption: events are independent and identically distributed (\"i.i.d.\"), e.g.:\n",
        "  - meterors passing by\n",
        "  - clinical events over a given period\n",
        "\n",
        "- Somewhat intuitive explanation:\n",
        "  - i.i.d. means we can multiply $\\lambda$ for observing $q$ events; hence:\n",
        "   $\\lambda^q$\n",
        "  - We overcounted because events are indistinguishable from each other; to adjust for overcountering, we divide by $q!$     \n",
        "\n",
        "- $\\exp( - \\lambda )$  looks like this in the code block:"
      ],
      "metadata": {
        "id": "2bonBVw7wrn6"
      }
    },
    {
      "cell_type": "code",
      "source": [
        "lambda<- - seq(1, 10, .01)  # note the negative sign!\n",
        "plot( lambda, exp( -lambda), type='l', main='Plot of exp(-lambda)' )"
      ],
      "metadata": {
        "colab": {
          "base_uri": "https://localhost:8080/",
          "height": 437
        },
        "id": "fkveMDBvyovB",
        "outputId": "8e926c4b-a934-40e3-8718-56fa82eeaf82"
      },
      "execution_count": null,
      "outputs": [
        {
          "output_type": "display_data",
          "data": {
            "text/plain": [
              "Plot with title “Plot of exp(-lambda)”"
            ],
            "image/png": "[encoded data removed]"
          },
          "metadata": {
            "image/png": {
              "width": 420,
              "height": 420
            }
          }
        }
      ]
    },
    {
      "cell_type": "markdown",
      "source": [
        "Intuitively:\n",
        "- high value of lambda means we need a long waiting period to be able to observe an event  \n",
        "- low lambda means waiting period will be short\n"
      ],
      "metadata": {
        "id": "lrLOKiqVzHfn"
      }
    },
    {
      "cell_type": "markdown",
      "source": [
        "\n",
        "- To calculate the probability of observing 3 meteors in one hour of observation: "
      ],
      "metadata": {
        "id": "AFZy87IUpcUS"
      }
    },
    {
      "cell_type": "code",
      "source": [
        "lambda <- 5 # rate\n",
        "q <- 3 # the count being inquired \n",
        "\n",
        "exp( -lambda ) * lambda^ q / factorial( q )"
      ],
      "metadata": {
        "colab": {
          "base_uri": "https://localhost:8080/",
          "height": 34
        },
        "id": "tfLEc0jCrYkk",
        "outputId": "d9323486-5cdf-40e1-e060-4ac50e1b779b"
      },
      "execution_count": null,
      "outputs": [
        {
          "output_type": "display_data",
          "data": {
            "text/html": [
              "0.140373895814281"
            ],
            "text/markdown": "0.140373895814281",
            "text/latex": "0.140373895814281",
            "text/plain": [
              "[1] 0.1403739"
            ]
          },
          "metadata": {}
        }
      ]
    },
    {
      "cell_type": "markdown",
      "source": [
        "Let's practice function definitions; first setup the structure of a function:"
      ],
      "metadata": {
        "id": "YUaMBHTSrZ0h"
      }
    },
    {
      "cell_type": "code",
      "source": [
        "name_of_function <- function(  )\n",
        "{\n",
        "\n",
        "\n",
        "}"
      ],
      "metadata": {
        "id": "u2WKx8WTpcta"
      },
      "execution_count": null,
      "outputs": []
    },
    {
      "cell_type": "code",
      "source": [],
      "metadata": {
        "id": "diH37RoF6aoL"
      },
      "execution_count": null,
      "outputs": []
    },
    {
      "cell_type": "code",
      "source": [],
      "metadata": {
        "id": "ENaTVu_46alo"
      },
      "execution_count": null,
      "outputs": []
    }
  ]
}